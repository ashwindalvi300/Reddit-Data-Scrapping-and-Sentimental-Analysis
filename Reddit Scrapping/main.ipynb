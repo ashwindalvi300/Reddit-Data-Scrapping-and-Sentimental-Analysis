{
 "cells": [
  {
   "cell_type": "code",
   "execution_count": 1,
   "id": "7f1a1348",
   "metadata": {},
   "outputs": [],
   "source": [
    "import praw\n",
    "import pandas as pd\n",
    "from praw.models import MoreComments\n",
    "import time\n",
    "from datetime import datetime"
   ]
  },
  {
   "cell_type": "code",
   "execution_count": 2,
   "id": "81e11631",
   "metadata": {},
   "outputs": [],
   "source": [
    "# Read-only instance\n",
    "reddit_read_only = praw.Reddit(client_id=\" ",         \n",
    "                               client_secret=\" ",      \n",
    "                               user_agent=\" ")        \n",
    " \n",
    "# Authorized instance\n",
    "reddit_authorized = praw.Reddit(client_id=\" ",         \n",
    "                                client_secret=\" ",  \n",
    "                                user_agent=\" ",  \n",
    "                                username=\" ",        \n",
    "                                password=\" \") "
   ]
  },
  {
   "cell_type": "code",
   "execution_count": 3,
   "id": "0ff01082",
   "metadata": {},
   "outputs": [],
   "source": [
    "# Queries to search\n",
    "search_queries = [\"TCL NXTPAPER 14 Pro\", \"TCL NXTPAPER 14\", \"TCL 50 XL NXTPAPER 5G\",\"TCL 50 XE NXTPAPER 5G\", \"TCL 50 XL 5G\", \"TCL 50 XE 5G\", \"TCL 50 LE\"]\n",
    "\n",
    "all_posts = []"
   ]
  },
  {
   "cell_type": "code",
   "execution_count": 5,
   "id": "3cde67e8",
   "metadata": {},
   "outputs": [
    {
     "name": "stdout",
     "output_type": "stream",
     "text": [
      "Scraping data for: TCL NXTPAPER 14 Pro\n"
     ]
    },
    {
     "name": "stderr",
     "output_type": "stream",
     "text": [
      "C:\\Users\\assdalvi\\AppData\\Local\\Temp\\ipykernel_23072\\3981632077.py:14: DeprecationWarning: datetime.datetime.utcfromtimestamp() is deprecated and scheduled for removal in a future version. Use timezone-aware objects to represent datetimes in UTC: datetime.datetime.fromtimestamp(timestamp, datetime.UTC).\n",
      "  \"created_date\": datetime.utcfromtimestamp(submission.created_utc).strftime('%Y-%m-%d %H:%M:%S'),\n"
     ]
    },
    {
     "name": "stdout",
     "output_type": "stream",
     "text": [
      "Scraping data for: TCL NXTPAPER 14\n",
      "Scraping data for: TCL 50 XL NXTPAPER 5G\n",
      "Scraping data for: TCL 50 XE NXTPAPER 5G\n",
      "Scraping data for: TCL 50 XL 5G\n",
      "Scraping data for: TCL 50 XE 5G\n",
      "Scraping data for: TCL 50 LE\n"
     ]
    }
   ],
   "source": [
    "# Function for searching queries\n",
    "for query in search_queries:\n",
    "    print(f\"Scraping data for: {query}\")\n",
    "    \n",
    "    try:\n",
    "        new_posts = reddit_read_only.subreddit(\"all\").search(query, sort=\"relevance\", time_filter=\"month\", limit=None)  \n",
    "        \n",
    "        for submission in new_posts:\n",
    "            post = {\n",
    "                \"Model\": query,\n",
    "                \"post_title\": submission.title.strip() if submission.title else \"No Title\",\n",
    "                \"post_description\": submission.selftext.strip() if submission.selftext else \"No description\",\n",
    "                \"created_utc\": submission.created_utc,\n",
    "                \"created_date\": datetime.utcfromtimestamp(submission.created_utc).strftime('%Y-%m-%d %H:%M:%S'),\n",
    "            #     \"post_url\": submission.url,  # Added post URL for better tracking\n",
    "            #     \"upvotes\": submission.score,  # Added upvote count to prioritize posts\n",
    "            #     \"num_comments\": submission.num_comments  # Number of comments\n",
    "            }\n",
    "            all_posts.append(post)\n",
    "        \n",
    "        time.sleep(2)  \n",
    "    except Exception as e:\n",
    "        print(f\"Error occurred while scraping {query}: {e}\")\n"
   ]
  },
  {
   "cell_type": "code",
   "execution_count": 6,
   "id": "fb7a07ba",
   "metadata": {},
   "outputs": [
    {
     "name": "stdout",
     "output_type": "stream",
     "text": [
      "All data saved in: Scrape_data.csv\n"
     ]
    }
   ],
   "source": [
    "# Saving the Scraped data to Comma Seperated File\n",
    "if all_posts:\n",
    "    df = pd.DataFrame(all_posts)\n",
    "    filename = \"Scrape_data.csv\"  \n",
    "    df.to_csv(filename, index=False, encoding=\"utf-8-sig\")  \n",
    "    print(f\"All data saved in: {filename}\")\n",
    "else:\n",
    "    print(\"No posts found for any query.\")\n"
   ]
  },
  {
   "cell_type": "code",
   "execution_count": 8,
   "id": "ba7dd9ca",
   "metadata": {},
   "outputs": [],
   "source": [
    "import plotly.express as px\n",
    "import numpy as np\n",
    "import pandas as pd\n",
    "import re\n",
    "import requests\n",
    "import time\n",
    "import random\n",
    "import json"
   ]
  },
  {
   "cell_type": "code",
   "execution_count": 9,
   "id": "c1c21423",
   "metadata": {},
   "outputs": [],
   "source": [
    "LLAMA3_URL = \" ""
   ]
  },
  {
   "cell_type": "code",
   "execution_count": 10,
   "id": "ec00042b",
   "metadata": {},
   "outputs": [],
   "source": [
    "# Data preprocessing\n",
    "d = pd.read_csv(\"Scrape_data.csv\")\n",
    "d['post_description'] = d['post_description'].fillna(d['post_title'])#filling null post descriptions with post_titles\n",
    "\n",
    "d = d[~d['post_description'].str.contains(r'https?://|bit\\.ly|lbabi\\.nz|bestbuyca\\.o93x\\.net', na=False)]#cleaning the unwanted post descriptions\n",
    "d['created_date'] = pd.to_datetime(d['created_date']).dt.date\n"
   ]
  },
  {
   "cell_type": "code",
   "execution_count": 11,
   "id": "35622ef9",
   "metadata": {},
   "outputs": [
    {
     "data": {
      "text/html": [
       "<div>\n",
       "<style scoped>\n",
       "    .dataframe tbody tr th:only-of-type {\n",
       "        vertical-align: middle;\n",
       "    }\n",
       "\n",
       "    .dataframe tbody tr th {\n",
       "        vertical-align: top;\n",
       "    }\n",
       "\n",
       "    .dataframe thead th {\n",
       "        text-align: right;\n",
       "    }\n",
       "</style>\n",
       "<table border=\"1\" class=\"dataframe\">\n",
       "  <thead>\n",
       "    <tr style=\"text-align: right;\">\n",
       "      <th></th>\n",
       "      <th>Model</th>\n",
       "      <th>post_title</th>\n",
       "      <th>post_description</th>\n",
       "      <th>created_utc</th>\n",
       "      <th>created_date</th>\n",
       "    </tr>\n",
       "  </thead>\n",
       "  <tbody>\n",
       "    <tr>\n",
       "      <th>0</th>\n",
       "      <td>TCL NXTPAPER 14 Pro</td>\n",
       "      <td>Can we start list of pwm free and TD free tabl...</td>\n",
       "      <td>Hi. Currently searching for new tablet and her...</td>\n",
       "      <td>1.744188e+09</td>\n",
       "      <td>2025-04-09</td>\n",
       "    </tr>\n",
       "    <tr>\n",
       "      <th>1</th>\n",
       "      <td>TCL NXTPAPER 14 Pro</td>\n",
       "      <td>Best phone under 300$ after Redmi Note 9 pro</td>\n",
       "      <td>It has been almost five years that I have a Xi...</td>\n",
       "      <td>1.743507e+09</td>\n",
       "      <td>2025-04-01</td>\n",
       "    </tr>\n",
       "    <tr>\n",
       "      <th>2</th>\n",
       "      <td>TCL NXTPAPER 14 Pro</td>\n",
       "      <td>Upgrading from Huawei P Smart 2019: which of t...</td>\n",
       "      <td>* Samsung Galaxy A25\\n* OnePlus Nord CE4 Lite ...</td>\n",
       "      <td>1.744030e+09</td>\n",
       "      <td>2025-04-07</td>\n",
       "    </tr>\n",
       "    <tr>\n",
       "      <th>3</th>\n",
       "      <td>TCL NXTPAPER 14 Pro</td>\n",
       "      <td>TCL 60 NXTPaper series will NOT have FR C / TD</td>\n",
       "      <td>Great news!  \\nI just got confirmation by TCD ...</td>\n",
       "      <td>1.743699e+09</td>\n",
       "      <td>2025-04-03</td>\n",
       "    </tr>\n",
       "    <tr>\n",
       "      <th>4</th>\n",
       "      <td>TCL NXTPAPER 14 Pro</td>\n",
       "      <td>TCL Nxtpaper 14 - tablet review</td>\n",
       "      <td>Hi, i tried today Tcl Nxtpaper 14 and its  usi...</td>\n",
       "      <td>1.744199e+09</td>\n",
       "      <td>2025-04-09</td>\n",
       "    </tr>\n",
       "    <tr>\n",
       "      <th>...</th>\n",
       "      <td>...</td>\n",
       "      <td>...</td>\n",
       "      <td>...</td>\n",
       "      <td>...</td>\n",
       "      <td>...</td>\n",
       "    </tr>\n",
       "    <tr>\n",
       "      <th>467</th>\n",
       "      <td>TCL 50 LE</td>\n",
       "      <td>Odds and Probabilities</td>\n",
       "      <td>I'm fairly new to actually using Reddit and ac...</td>\n",
       "      <td>1.743642e+09</td>\n",
       "      <td>2025-04-03</td>\n",
       "    </tr>\n",
       "    <tr>\n",
       "      <th>468</th>\n",
       "      <td>TCL 50 LE</td>\n",
       "      <td>Queremos menos derechos y más obligaciones... ...</td>\n",
       "      <td>Estoy chato de tanto derecho.\\n¿Derecho a la s...</td>\n",
       "      <td>1.744674e+09</td>\n",
       "      <td>2025-04-14</td>\n",
       "    </tr>\n",
       "    <tr>\n",
       "      <th>471</th>\n",
       "      <td>TCL 50 LE</td>\n",
       "      <td>[MLR 11.6] Anaheim Angels vs Arizona Diamondbacks</td>\n",
       "      <td>##ANA 8 - ARI 4\\n##**FINAL**\\n\\n\\n\\n\\n##LINE\\n...</td>\n",
       "      <td>1.744365e+09</td>\n",
       "      <td>2025-04-11</td>\n",
       "    </tr>\n",
       "    <tr>\n",
       "      <th>472</th>\n",
       "      <td>TCL 50 LE</td>\n",
       "      <td>Linguistic Map of Europe in 1850 to 1900 [OC] ...</td>\n",
       "      <td>No description</td>\n",
       "      <td>1.743785e+09</td>\n",
       "      <td>2025-04-04</td>\n",
       "    </tr>\n",
       "    <tr>\n",
       "      <th>473</th>\n",
       "      <td>TCL 50 LE</td>\n",
       "      <td>Les outils de contrôle sur espace public (y co...</td>\n",
       "      <td>Comme indiqué dans le titre, je pense que les ...</td>\n",
       "      <td>1.744619e+09</td>\n",
       "      <td>2025-04-14</td>\n",
       "    </tr>\n",
       "  </tbody>\n",
       "</table>\n",
       "<p>373 rows × 5 columns</p>\n",
       "</div>"
      ],
      "text/plain": [
       "                   Model                                         post_title  \\\n",
       "0    TCL NXTPAPER 14 Pro  Can we start list of pwm free and TD free tabl...   \n",
       "1    TCL NXTPAPER 14 Pro       Best phone under 300$ after Redmi Note 9 pro   \n",
       "2    TCL NXTPAPER 14 Pro  Upgrading from Huawei P Smart 2019: which of t...   \n",
       "3    TCL NXTPAPER 14 Pro     TCL 60 NXTPaper series will NOT have FR C / TD   \n",
       "4    TCL NXTPAPER 14 Pro                    TCL Nxtpaper 14 - tablet review   \n",
       "..                   ...                                                ...   \n",
       "467            TCL 50 LE                             Odds and Probabilities   \n",
       "468            TCL 50 LE  Queremos menos derechos y más obligaciones... ...   \n",
       "471            TCL 50 LE  [MLR 11.6] Anaheim Angels vs Arizona Diamondbacks   \n",
       "472            TCL 50 LE  Linguistic Map of Europe in 1850 to 1900 [OC] ...   \n",
       "473            TCL 50 LE  Les outils de contrôle sur espace public (y co...   \n",
       "\n",
       "                                      post_description   created_utc  \\\n",
       "0    Hi. Currently searching for new tablet and her...  1.744188e+09   \n",
       "1    It has been almost five years that I have a Xi...  1.743507e+09   \n",
       "2    * Samsung Galaxy A25\\n* OnePlus Nord CE4 Lite ...  1.744030e+09   \n",
       "3    Great news!  \\nI just got confirmation by TCD ...  1.743699e+09   \n",
       "4    Hi, i tried today Tcl Nxtpaper 14 and its  usi...  1.744199e+09   \n",
       "..                                                 ...           ...   \n",
       "467  I'm fairly new to actually using Reddit and ac...  1.743642e+09   \n",
       "468  Estoy chato de tanto derecho.\\n¿Derecho a la s...  1.744674e+09   \n",
       "471  ##ANA 8 - ARI 4\\n##**FINAL**\\n\\n\\n\\n\\n##LINE\\n...  1.744365e+09   \n",
       "472                                     No description  1.743785e+09   \n",
       "473  Comme indiqué dans le titre, je pense que les ...  1.744619e+09   \n",
       "\n",
       "    created_date  \n",
       "0     2025-04-09  \n",
       "1     2025-04-01  \n",
       "2     2025-04-07  \n",
       "3     2025-04-03  \n",
       "4     2025-04-09  \n",
       "..           ...  \n",
       "467   2025-04-03  \n",
       "468   2025-04-14  \n",
       "471   2025-04-11  \n",
       "472   2025-04-04  \n",
       "473   2025-04-14  \n",
       "\n",
       "[373 rows x 5 columns]"
      ]
     },
     "execution_count": 11,
     "metadata": {},
     "output_type": "execute_result"
    }
   ],
   "source": [
    "d"
   ]
  },
  {
   "cell_type": "code",
   "execution_count": 12,
   "id": "0e7b7b7d",
   "metadata": {},
   "outputs": [],
   "source": [
    "# Llama Rapper\n",
    "class LLAMA3ApiWrapper:\n",
    "    def __init__(self, api_url = None):\n",
    "        self.api_url = api_url\n",
    "        self.headers = {'Content-Type': 'application/json'}\n",
    "        \n",
    "    def get_llama_3_prompt(self,input):\n",
    "        \n",
    "        user_prompt = \"<|start_header_id|>user<|end_header_id|> \\n\"  + input   + \"\\n<|eot_id|>\\n<|start_header_id|>assistant<|end_header_id|> \"\n",
    "        \n",
    "        return self.system_prompt + user_prompt\n",
    "    \n",
    "    \n",
    "    def make_api_request(self, system_prompt,input_text):\n",
    "        \n",
    "        self.system_prompt = system_prompt\n",
    "\n",
    "        data = {\n",
    "            \"prompt\": self.get_llama_3_prompt(input_text),\n",
    "        }\n",
    "\n",
    "        try:\n",
    "            response = requests.post(url = self.api_url, data=json.dumps(data), headers=self.headers)\n",
    "            response.raise_for_status()  # Raise an HTTPError for bad responses (4xx and 5xx)\n",
    "\n",
    "            if response.json() is None:\n",
    "                raise ValueError(\"Returned None String\")\n",
    "\n",
    "            result = response.json()['text'].split('<|start_header_id|>assistant<|end_header_id|>')[-1]\n",
    "\n",
    "            return result #+ ';'\n",
    "        \n",
    "        except requests.exceptions.RequestException as e:\n",
    "            print(f\"Error making API request: {e}\")\n",
    "            return None\n",
    "        \n",
    "llama3_api = LLAMA3ApiWrapper(api_url=LLAMA3_URL)\n"
   ]
  },
  {
   "cell_type": "code",
   "execution_count": 13,
   "id": "9b6d11b8",
   "metadata": {},
   "outputs": [],
   "source": [
    "# Prompt for the sentiment analysis\n",
    "system_text = '''You are an AI specialized in sentiment analysis of comments. Your task is to analyze the input text and provide the following:\n",
    "1. Sentiment: Identify the sentiment as one of: Very Positive, Positive, Neutral, Negative, or Very Negative. Do not use any other values.\n",
    "2. Reason: Provide a concise reason for the identified sentiment (1 short sentence). Avoid unnecessary details.\n",
    "3. Category: Categorize the comment into one or more of the following: Design, Performance, Features, Cost, Service, Tech Support, or Other. Do not use any other values. Please categorise the comments into a single category strictly.\n",
    "\n",
    "### Rules:\n",
    "- Sentiment: Must be one of: Very Positive, Positive, Neutral, Negative, or Very Negative. Do not deviate from these options.\n",
    "  - **Very Positive**: Use when the comment expresses an exceptionally high level of satisfaction or praise.\n",
    "  - **Positive**: Use for comments expressing general satisfaction or a positive experience.\n",
    "  - **Neutral**: Use when the comment is neither positive nor negative (e.g., stating facts without emotion).\n",
    "  - **Negative**: Use when the comment expresses dissatisfaction or a negative experience.\n",
    "  - **Very Negative**: Use for comments that express extreme dissatisfaction or frustration.\n",
    "  \n",
    "- Category: Must be one or more of: Software, Network & Connectivity, Design, Performance, Features, Cost, Service, Tech Support, Display, Battery & Charging, or Other. Do not use any other values.\n",
    "  - Only use relevant categories for comments about electronic devices.\n",
    "  - Please categorise the comments into a single category strictly.\n",
    "  \n",
    "- Reason: Must be very short (1 sentence) and directly related to the comment. Do not add extra information.\n",
    "- Category Selection: The category must strictly align with the reason provided. If the reason relates to multiple aspects, include all relevant categories.\n",
    "- Do not include any stars, asterisks, or extra symbols in the output.\n",
    "- If the comments are not relevant to electronic devices, please give the sentiment as **Irrelevant** and leave the category field empty.\n",
    "\n",
    "### Output Format:\n",
    "- Sentiment: <Very Positive/Positive/Neutral/Negative/Very Negative/Irrelevant>\n",
    "- Reason: <Concise reason>\n",
    "- Category: <Design/Performance/Features/Cost/Service/Tech Support/Other> (one or more, or empty if irrelevant)\n",
    "'''"
   ]
  },
  {
   "cell_type": "code",
   "execution_count": 14,
   "id": "8922eb2d",
   "metadata": {},
   "outputs": [],
   "source": [
    "# Function for cleaning the output\n",
    "def clean_output(response_text):\n",
    "    response_text = response_text.replace(\"*\", \"\")  \n",
    "    response_text = response_text.replace(\"**\", \"\") \n",
    "    return response_text.strip()"
   ]
  },
  {
   "cell_type": "code",
   "execution_count": 15,
   "id": "90f75e89",
   "metadata": {},
   "outputs": [],
   "source": [
    "#Function for predicting sentimtent \n",
    "def predict_sentiment(comment, retries=3, delay=2):\n",
    "    attempt = 0\n",
    "    while attempt < retries:\n",
    "        sentiment = llama3_api.make_api_request(system_prompt=system_text, input_text=str(comment))\n",
    "        if sentiment:  \n",
    "            return clean_output(sentiment)\n",
    "        else:  \n",
    "            attempt += 1\n",
    "            print(f\"Attempt {attempt} failed. Retrying in {delay} seconds...\")\n",
    "            time.sleep(delay + random.randint(0, 2))  \n",
    "    return \"Error\"  "
   ]
  },
  {
   "cell_type": "code",
   "execution_count": 24,
   "id": "e662e481",
   "metadata": {},
   "outputs": [
    {
     "data": {
      "text/plain": [
       "0      Hi. Currently searching for new tablet and her...\n",
       "1      It has been almost five years that I have a Xi...\n",
       "2      * Samsung Galaxy A25\\n* OnePlus Nord CE4 Lite ...\n",
       "3      Great news!  \\nI just got confirmation by TCD ...\n",
       "4      Hi, i tried today Tcl Nxtpaper 14 and its  usi...\n",
       "                             ...                        \n",
       "467    I'm fairly new to actually using Reddit and ac...\n",
       "468    Estoy chato de tanto derecho.\\n¿Derecho a la s...\n",
       "471    ##ANA 8 - ARI 4\\n##**FINAL**\\n\\n\\n\\n\\n##LINE\\n...\n",
       "472                                       No description\n",
       "473    Comme indiqué dans le titre, je pense que les ...\n",
       "Name: post_description, Length: 373, dtype: object"
      ]
     },
     "execution_count": 24,
     "metadata": {},
     "output_type": "execute_result"
    }
   ],
   "source": [
    "d['post_description']"
   ]
  },
  {
   "cell_type": "code",
   "execution_count": 17,
   "id": "8d2acb62",
   "metadata": {},
   "outputs": [
    {
     "name": "stdout",
     "output_type": "stream",
     "text": [
      "Attempt 1 failed. Retrying in 2 seconds...\n",
      "Attempt 2 failed. Retrying in 2 seconds...\n",
      "Attempt 3 failed. Retrying in 2 seconds...\n"
     ]
    }
   ],
   "source": [
    "# Predicting the sentiments one by one \n",
    "d['predicted_sentiment'] = d['post_description'].apply(lambda Comment: predict_sentiment(Comment))"
   ]
  },
  {
   "cell_type": "code",
   "execution_count": 18,
   "id": "0f19d723",
   "metadata": {},
   "outputs": [],
   "source": [
    "# Categories based on which the post_descriptions are categorized \n",
    "valid_categories = [\n",
    "    \"Software\", \n",
    "    \"Network & Connectivity\", \n",
    "    \"Design\", \n",
    "    \"Performance\", \n",
    "    \"Features\", \n",
    "    \"Cost\", \n",
    "    \"Service\", \n",
    "    \"Tech Support\", \n",
    "    \"Display\", \n",
    "    \"Battery & Charging\", \n",
    "    \"Other\"\n",
    "]"
   ]
  },
  {
   "cell_type": "code",
   "execution_count": 19,
   "id": "70de1a64",
   "metadata": {},
   "outputs": [],
   "source": [
    "# Regex function to extract various information from the given output of the LLAMA\n",
    "def extract_sentiment_info(text):\n",
    "    # Adjusting regex to capture \"Very Positive\" and \"Very Negative\"\n",
    "    sentiment_match = re.search(r\"Sentiment:\\s*(Very\\s+\\w+|\\w+)\", text)\n",
    "    sentiment = sentiment_match.group(1) if sentiment_match else None\n",
    "\n",
    "    # Extract the reason\n",
    "    reason_match = re.search(r\"Reason:\\s*(.*?)\\n\", text)\n",
    "    reason = reason_match.group(1) if reason_match else None\n",
    "\n",
    "    # Extract the category and filter valid categories\n",
    "    category_match = re.search(r\"Category:\\s*(.*)\", text)\n",
    "    if category_match:\n",
    "        categories = category_match.group(1)\n",
    "        categories = re.sub(r'\\([^)]*\\)', '', categories)  # Removing content inside parentheses\n",
    "        categories = [cat.strip() for cat in categories.split(',')]  # Split categories and remove extra spaces\n",
    "        categories = [cat for cat in categories if cat in valid_categories]  # Filter valid categories\n",
    "        categories = ', '.join(categories) if categories else None\n",
    "    else:\n",
    "        categories = None\n",
    "\n",
    "    return pd.Series([sentiment, reason, categories], index=[\"Sentiment\", \"Reason\", \"Category\"])\n"
   ]
  },
  {
   "cell_type": "code",
   "execution_count": 20,
   "id": "fd2e4b05",
   "metadata": {},
   "outputs": [],
   "source": [
    "# Applying the Regex function to the predicted sentiment\n",
    "d[[\"Sentiment\", \"Reason\", \"Category\"]] = d[\"predicted_sentiment\"].apply(extract_sentiment_info)"
   ]
  },
  {
   "cell_type": "code",
   "execution_count": 25,
   "id": "c05ebf9a",
   "metadata": {},
   "outputs": [
    {
     "data": {
      "text/html": [
       "<div>\n",
       "<style scoped>\n",
       "    .dataframe tbody tr th:only-of-type {\n",
       "        vertical-align: middle;\n",
       "    }\n",
       "\n",
       "    .dataframe tbody tr th {\n",
       "        vertical-align: top;\n",
       "    }\n",
       "\n",
       "    .dataframe thead th {\n",
       "        text-align: right;\n",
       "    }\n",
       "</style>\n",
       "<table border=\"1\" class=\"dataframe\">\n",
       "  <thead>\n",
       "    <tr style=\"text-align: right;\">\n",
       "      <th></th>\n",
       "      <th>Model</th>\n",
       "      <th>post_title</th>\n",
       "      <th>post_description</th>\n",
       "      <th>created_utc</th>\n",
       "      <th>created_date</th>\n",
       "      <th>predicted_sentiment</th>\n",
       "      <th>Sentiment</th>\n",
       "      <th>Reason</th>\n",
       "      <th>Category</th>\n",
       "    </tr>\n",
       "  </thead>\n",
       "  <tbody>\n",
       "    <tr>\n",
       "      <th>0</th>\n",
       "      <td>TCL NXTPAPER 14 Pro</td>\n",
       "      <td>Can we start list of pwm free and TD free tabl...</td>\n",
       "      <td>Hi. Currently searching for new tablet and her...</td>\n",
       "      <td>1.744188e+09</td>\n",
       "      <td>2025-04-09</td>\n",
       "      <td>Here's the sentiment analysis:\\n\\nSentiment: N...</td>\n",
       "      <td>Neutral</td>\n",
       "      <td>The user shares their personal experiences wit...</td>\n",
       "      <td>Other</td>\n",
       "    </tr>\n",
       "    <tr>\n",
       "      <th>1</th>\n",
       "      <td>TCL NXTPAPER 14 Pro</td>\n",
       "      <td>Best phone under 300$ after Redmi Note 9 pro</td>\n",
       "      <td>It has been almost five years that I have a Xi...</td>\n",
       "      <td>1.743507e+09</td>\n",
       "      <td>2025-04-01</td>\n",
       "      <td>Here is the sentiment analysis:\\n\\nSentiment: ...</td>\n",
       "      <td>Negative</td>\n",
       "      <td>Phone freezes frequently and needs restarting ...</td>\n",
       "      <td>Performance</td>\n",
       "    </tr>\n",
       "    <tr>\n",
       "      <th>2</th>\n",
       "      <td>TCL NXTPAPER 14 Pro</td>\n",
       "      <td>Upgrading from Huawei P Smart 2019: which of t...</td>\n",
       "      <td>* Samsung Galaxy A25\\n* OnePlus Nord CE4 Lite ...</td>\n",
       "      <td>1.744030e+09</td>\n",
       "      <td>2025-04-07</td>\n",
       "      <td>Here's my analysis:\\n\\nSentiment: Positive\\nRe...</td>\n",
       "      <td>Positive</td>\n",
       "      <td>The user is considering different phone models...</td>\n",
       "      <td>Other</td>\n",
       "    </tr>\n",
       "    <tr>\n",
       "      <th>3</th>\n",
       "      <td>TCL NXTPAPER 14 Pro</td>\n",
       "      <td>TCL 60 NXTPaper series will NOT have FR C / TD</td>\n",
       "      <td>Great news!  \\nI just got confirmation by TCD ...</td>\n",
       "      <td>1.743699e+09</td>\n",
       "      <td>2025-04-03</td>\n",
       "      <td>Sentiment: Very Positive\\nReason: Confirmation...</td>\n",
       "      <td>Very Positive</td>\n",
       "      <td>Confirmation of no temporal dither or frame ra...</td>\n",
       "      <td>Performance</td>\n",
       "    </tr>\n",
       "    <tr>\n",
       "      <th>4</th>\n",
       "      <td>TCL NXTPAPER 14 Pro</td>\n",
       "      <td>TCL Nxtpaper 14 - tablet review</td>\n",
       "      <td>Hi, i tried today Tcl Nxtpaper 14 and its  usi...</td>\n",
       "      <td>1.744199e+09</td>\n",
       "      <td>2025-04-09</td>\n",
       "      <td>Here's the sentiment analysis:\\n\\nSentiment: V...</td>\n",
       "      <td>Very Negative</td>\n",
       "      <td>The reviewer experienced eye strain, pressure,...</td>\n",
       "      <td>Design, Performance, Features, Service</td>\n",
       "    </tr>\n",
       "    <tr>\n",
       "      <th>...</th>\n",
       "      <td>...</td>\n",
       "      <td>...</td>\n",
       "      <td>...</td>\n",
       "      <td>...</td>\n",
       "      <td>...</td>\n",
       "      <td>...</td>\n",
       "      <td>...</td>\n",
       "      <td>...</td>\n",
       "      <td>...</td>\n",
       "    </tr>\n",
       "    <tr>\n",
       "      <th>467</th>\n",
       "      <td>TCL 50 LE</td>\n",
       "      <td>Odds and Probabilities</td>\n",
       "      <td>I'm fairly new to actually using Reddit and ac...</td>\n",
       "      <td>1.743642e+09</td>\n",
       "      <td>2025-04-03</td>\n",
       "      <td>Here is the output:\\n\\nSentiment: Very Negativ...</td>\n",
       "      <td>Very Negative</td>\n",
       "      <td>The author presents overwhelming evidence agai...</td>\n",
       "      <td>None</td>\n",
       "    </tr>\n",
       "    <tr>\n",
       "      <th>468</th>\n",
       "      <td>TCL 50 LE</td>\n",
       "      <td>Queremos menos derechos y más obligaciones... ...</td>\n",
       "      <td>Estoy chato de tanto derecho.\\n¿Derecho a la s...</td>\n",
       "      <td>1.744674e+09</td>\n",
       "      <td>2025-04-14</td>\n",
       "      <td>Sentiment: Very Negative\\nReason: Expresses st...</td>\n",
       "      <td>Very Negative</td>\n",
       "      <td>Expresses strong discontent and resentment tow...</td>\n",
       "      <td>Other</td>\n",
       "    </tr>\n",
       "    <tr>\n",
       "      <th>471</th>\n",
       "      <td>TCL 50 LE</td>\n",
       "      <td>[MLR 11.6] Anaheim Angels vs Arizona Diamondbacks</td>\n",
       "      <td>##ANA 8 - ARI 4\\n##**FINAL**\\n\\n\\n\\n\\n##LINE\\n...</td>\n",
       "      <td>1.744365e+09</td>\n",
       "      <td>2025-04-11</td>\n",
       "      <td>Here is the sentiment analysis:\\n\\nSentiment: ...</td>\n",
       "      <td>Neutral</td>\n",
       "      <td>The text appears to be a summary of a baseball...</td>\n",
       "      <td>Other</td>\n",
       "    </tr>\n",
       "    <tr>\n",
       "      <th>472</th>\n",
       "      <td>TCL 50 LE</td>\n",
       "      <td>Linguistic Map of Europe in 1850 to 1900 [OC] ...</td>\n",
       "      <td>No description</td>\n",
       "      <td>1.743785e+09</td>\n",
       "      <td>2025-04-04</td>\n",
       "      <td>Waiting for your input text... Please paste th...</td>\n",
       "      <td>None</td>\n",
       "      <td>None</td>\n",
       "      <td>None</td>\n",
       "    </tr>\n",
       "    <tr>\n",
       "      <th>473</th>\n",
       "      <td>TCL 50 LE</td>\n",
       "      <td>Les outils de contrôle sur espace public (y co...</td>\n",
       "      <td>Comme indiqué dans le titre, je pense que les ...</td>\n",
       "      <td>1.744619e+09</td>\n",
       "      <td>2025-04-14</td>\n",
       "      <td>Here is the sentiment analysis:\\n\\nSentiment: ...</td>\n",
       "      <td>Positive</td>\n",
       "      <td>The author believes that surveillance tools im...</td>\n",
       "      <td>Service</td>\n",
       "    </tr>\n",
       "  </tbody>\n",
       "</table>\n",
       "<p>373 rows × 9 columns</p>\n",
       "</div>"
      ],
      "text/plain": [
       "                   Model                                         post_title  \\\n",
       "0    TCL NXTPAPER 14 Pro  Can we start list of pwm free and TD free tabl...   \n",
       "1    TCL NXTPAPER 14 Pro       Best phone under 300$ after Redmi Note 9 pro   \n",
       "2    TCL NXTPAPER 14 Pro  Upgrading from Huawei P Smart 2019: which of t...   \n",
       "3    TCL NXTPAPER 14 Pro     TCL 60 NXTPaper series will NOT have FR C / TD   \n",
       "4    TCL NXTPAPER 14 Pro                    TCL Nxtpaper 14 - tablet review   \n",
       "..                   ...                                                ...   \n",
       "467            TCL 50 LE                             Odds and Probabilities   \n",
       "468            TCL 50 LE  Queremos menos derechos y más obligaciones... ...   \n",
       "471            TCL 50 LE  [MLR 11.6] Anaheim Angels vs Arizona Diamondbacks   \n",
       "472            TCL 50 LE  Linguistic Map of Europe in 1850 to 1900 [OC] ...   \n",
       "473            TCL 50 LE  Les outils de contrôle sur espace public (y co...   \n",
       "\n",
       "                                      post_description   created_utc  \\\n",
       "0    Hi. Currently searching for new tablet and her...  1.744188e+09   \n",
       "1    It has been almost five years that I have a Xi...  1.743507e+09   \n",
       "2    * Samsung Galaxy A25\\n* OnePlus Nord CE4 Lite ...  1.744030e+09   \n",
       "3    Great news!  \\nI just got confirmation by TCD ...  1.743699e+09   \n",
       "4    Hi, i tried today Tcl Nxtpaper 14 and its  usi...  1.744199e+09   \n",
       "..                                                 ...           ...   \n",
       "467  I'm fairly new to actually using Reddit and ac...  1.743642e+09   \n",
       "468  Estoy chato de tanto derecho.\\n¿Derecho a la s...  1.744674e+09   \n",
       "471  ##ANA 8 - ARI 4\\n##**FINAL**\\n\\n\\n\\n\\n##LINE\\n...  1.744365e+09   \n",
       "472                                     No description  1.743785e+09   \n",
       "473  Comme indiqué dans le titre, je pense que les ...  1.744619e+09   \n",
       "\n",
       "    created_date                                predicted_sentiment  \\\n",
       "0     2025-04-09  Here's the sentiment analysis:\\n\\nSentiment: N...   \n",
       "1     2025-04-01  Here is the sentiment analysis:\\n\\nSentiment: ...   \n",
       "2     2025-04-07  Here's my analysis:\\n\\nSentiment: Positive\\nRe...   \n",
       "3     2025-04-03  Sentiment: Very Positive\\nReason: Confirmation...   \n",
       "4     2025-04-09  Here's the sentiment analysis:\\n\\nSentiment: V...   \n",
       "..           ...                                                ...   \n",
       "467   2025-04-03  Here is the output:\\n\\nSentiment: Very Negativ...   \n",
       "468   2025-04-14  Sentiment: Very Negative\\nReason: Expresses st...   \n",
       "471   2025-04-11  Here is the sentiment analysis:\\n\\nSentiment: ...   \n",
       "472   2025-04-04  Waiting for your input text... Please paste th...   \n",
       "473   2025-04-14  Here is the sentiment analysis:\\n\\nSentiment: ...   \n",
       "\n",
       "         Sentiment                                             Reason  \\\n",
       "0          Neutral  The user shares their personal experiences wit...   \n",
       "1         Negative  Phone freezes frequently and needs restarting ...   \n",
       "2         Positive  The user is considering different phone models...   \n",
       "3    Very Positive  Confirmation of no temporal dither or frame ra...   \n",
       "4    Very Negative  The reviewer experienced eye strain, pressure,...   \n",
       "..             ...                                                ...   \n",
       "467  Very Negative  The author presents overwhelming evidence agai...   \n",
       "468  Very Negative  Expresses strong discontent and resentment tow...   \n",
       "471        Neutral  The text appears to be a summary of a baseball...   \n",
       "472           None                                               None   \n",
       "473       Positive  The author believes that surveillance tools im...   \n",
       "\n",
       "                                   Category  \n",
       "0                                     Other  \n",
       "1                               Performance  \n",
       "2                                     Other  \n",
       "3                               Performance  \n",
       "4    Design, Performance, Features, Service  \n",
       "..                                      ...  \n",
       "467                                    None  \n",
       "468                                   Other  \n",
       "471                                   Other  \n",
       "472                                    None  \n",
       "473                                 Service  \n",
       "\n",
       "[373 rows x 9 columns]"
      ]
     },
     "execution_count": 25,
     "metadata": {},
     "output_type": "execute_result"
    }
   ],
   "source": [
    "d"
   ]
  },
  {
   "cell_type": "code",
   "execution_count": 27,
   "id": "79d1d502",
   "metadata": {},
   "outputs": [],
   "source": [
    "#Saving it to the csv file\n",
    "d.to_csv(\"sent_demo.csv\", index=False)"
   ]
  },
  {
   "cell_type": "code",
   "execution_count": 28,
   "id": "91e3c399",
   "metadata": {},
   "outputs": [],
   "source": [
    "import pandas as pd\n",
    "import numpy as np\n",
    "import matplotlib.pyplot as plt\n",
    "import plotly.express as px\n",
    "import plotly.figure_factory as ff"
   ]
  },
  {
   "cell_type": "code",
   "execution_count": 30,
   "id": "6be0aa7c",
   "metadata": {},
   "outputs": [
    {
     "data": {
      "application/vnd.plotly.v1+json": {
       "config": {
        "plotlyServerURL": "https://plot.ly"
       },
       "data": [
        {
         "alignmentgroup": "True",
         "hovertemplate": "Sentiment=Irrelevant<br>Model=%{x}<br>Sentiment Count=%{y}<extra></extra>",
         "legendgroup": "Irrelevant",
         "marker": {
          "color": "#636efa",
          "pattern": {
           "shape": ""
          }
         },
         "name": "Irrelevant",
         "offsetgroup": "Irrelevant",
         "orientation": "v",
         "showlegend": true,
         "textposition": "auto",
         "type": "bar",
         "x": [
          "TCL 50 LE"
         ],
         "xaxis": "x",
         "y": [
          2
         ],
         "yaxis": "y"
        },
        {
         "alignmentgroup": "True",
         "hovertemplate": "Sentiment=Negative<br>Model=%{x}<br>Sentiment Count=%{y}<extra></extra>",
         "legendgroup": "Negative",
         "marker": {
          "color": "#EF553B",
          "pattern": {
           "shape": ""
          }
         },
         "name": "Negative",
         "offsetgroup": "Negative",
         "orientation": "v",
         "showlegend": true,
         "textposition": "auto",
         "type": "bar",
         "x": [
          "TCL 50 LE",
          "TCL 50 XE 5G",
          "TCL 50 XE NXTPAPER 5G",
          "TCL 50 XL 5G",
          "TCL 50 XL NXTPAPER 5G",
          "TCL NXTPAPER 14",
          "TCL NXTPAPER 14 Pro"
         ],
         "xaxis": "x",
         "y": [
          27,
          4,
          5,
          6,
          7,
          10,
          1
         ],
         "yaxis": "y"
        },
        {
         "alignmentgroup": "True",
         "hovertemplate": "Sentiment=Neutral<br>Model=%{x}<br>Sentiment Count=%{y}<extra></extra>",
         "legendgroup": "Neutral",
         "marker": {
          "color": "#00cc96",
          "pattern": {
           "shape": ""
          }
         },
         "name": "Neutral",
         "offsetgroup": "Neutral",
         "orientation": "v",
         "showlegend": true,
         "textposition": "auto",
         "type": "bar",
         "x": [
          "TCL 50 LE",
          "TCL 50 XE 5G",
          "TCL 50 XE NXTPAPER 5G",
          "TCL 50 XL 5G",
          "TCL 50 XL NXTPAPER 5G",
          "TCL NXTPAPER 14",
          "TCL NXTPAPER 14 Pro"
         ],
         "xaxis": "x",
         "y": [
          27,
          2,
          4,
          2,
          4,
          20,
          8
         ],
         "yaxis": "y"
        },
        {
         "alignmentgroup": "True",
         "hovertemplate": "Sentiment=Positive<br>Model=%{x}<br>Sentiment Count=%{y}<extra></extra>",
         "legendgroup": "Positive",
         "marker": {
          "color": "#ab63fa",
          "pattern": {
           "shape": ""
          }
         },
         "name": "Positive",
         "offsetgroup": "Positive",
         "orientation": "v",
         "showlegend": true,
         "textposition": "auto",
         "type": "bar",
         "x": [
          "TCL 50 LE",
          "TCL 50 XE 5G",
          "TCL 50 XE NXTPAPER 5G",
          "TCL 50 XL 5G",
          "TCL 50 XL NXTPAPER 5G",
          "TCL NXTPAPER 14",
          "TCL NXTPAPER 14 Pro"
         ],
         "xaxis": "x",
         "y": [
          25,
          5,
          6,
          6,
          7,
          24,
          10
         ],
         "yaxis": "y"
        },
        {
         "alignmentgroup": "True",
         "hovertemplate": "Sentiment=Very Negative<br>Model=%{x}<br>Sentiment Count=%{y}<extra></extra>",
         "legendgroup": "Very Negative",
         "marker": {
          "color": "#FFA15A",
          "pattern": {
           "shape": ""
          }
         },
         "name": "Very Negative",
         "offsetgroup": "Very Negative",
         "orientation": "v",
         "showlegend": true,
         "textposition": "auto",
         "type": "bar",
         "x": [
          "TCL 50 LE",
          "TCL 50 XE 5G",
          "TCL 50 XE NXTPAPER 5G",
          "TCL 50 XL 5G",
          "TCL 50 XL NXTPAPER 5G",
          "TCL NXTPAPER 14",
          "TCL NXTPAPER 14 Pro"
         ],
         "xaxis": "x",
         "y": [
          30,
          1,
          2,
          1,
          2,
          2,
          1
         ],
         "yaxis": "y"
        },
        {
         "alignmentgroup": "True",
         "hovertemplate": "Sentiment=Very Positive<br>Model=%{x}<br>Sentiment Count=%{y}<extra></extra>",
         "legendgroup": "Very Positive",
         "marker": {
          "color": "#19d3f3",
          "pattern": {
           "shape": ""
          }
         },
         "name": "Very Positive",
         "offsetgroup": "Very Positive",
         "orientation": "v",
         "showlegend": true,
         "textposition": "auto",
         "type": "bar",
         "x": [
          "TCL 50 LE",
          "TCL 50 XL 5G",
          "TCL 50 XL NXTPAPER 5G",
          "TCL NXTPAPER 14",
          "TCL NXTPAPER 14 Pro"
         ],
         "xaxis": "x",
         "y": [
          5,
          1,
          1,
          1,
          1
         ],
         "yaxis": "y"
        }
       ],
       "layout": {
        "barmode": "stack",
        "legend": {
         "title": {
          "text": "Sentiment"
         },
         "tracegroupgap": 0
        },
        "template": {
         "data": {
          "bar": [
           {
            "error_x": {
             "color": "#2a3f5f"
            },
            "error_y": {
             "color": "#2a3f5f"
            },
            "marker": {
             "line": {
              "color": "#E5ECF6",
              "width": 0.5
             },
             "pattern": {
              "fillmode": "overlay",
              "size": 10,
              "solidity": 0.2
             }
            },
            "type": "bar"
           }
          ],
          "barpolar": [
           {
            "marker": {
             "line": {
              "color": "#E5ECF6",
              "width": 0.5
             },
             "pattern": {
              "fillmode": "overlay",
              "size": 10,
              "solidity": 0.2
             }
            },
            "type": "barpolar"
           }
          ],
          "carpet": [
           {
            "aaxis": {
             "endlinecolor": "#2a3f5f",
             "gridcolor": "white",
             "linecolor": "white",
             "minorgridcolor": "white",
             "startlinecolor": "#2a3f5f"
            },
            "baxis": {
             "endlinecolor": "#2a3f5f",
             "gridcolor": "white",
             "linecolor": "white",
             "minorgridcolor": "white",
             "startlinecolor": "#2a3f5f"
            },
            "type": "carpet"
           }
          ],
          "choropleth": [
           {
            "colorbar": {
             "outlinewidth": 0,
             "ticks": ""
            },
            "type": "choropleth"
           }
          ],
          "contour": [
           {
            "colorbar": {
             "outlinewidth": 0,
             "ticks": ""
            },
            "colorscale": [
             [
              0,
              "#0d0887"
             ],
             [
              0.1111111111111111,
              "#46039f"
             ],
             [
              0.2222222222222222,
              "#7201a8"
             ],
             [
              0.3333333333333333,
              "#9c179e"
             ],
             [
              0.4444444444444444,
              "#bd3786"
             ],
             [
              0.5555555555555556,
              "#d8576b"
             ],
             [
              0.6666666666666666,
              "#ed7953"
             ],
             [
              0.7777777777777778,
              "#fb9f3a"
             ],
             [
              0.8888888888888888,
              "#fdca26"
             ],
             [
              1,
              "#f0f921"
             ]
            ],
            "type": "contour"
           }
          ],
          "contourcarpet": [
           {
            "colorbar": {
             "outlinewidth": 0,
             "ticks": ""
            },
            "type": "contourcarpet"
           }
          ],
          "heatmap": [
           {
            "colorbar": {
             "outlinewidth": 0,
             "ticks": ""
            },
            "colorscale": [
             [
              0,
              "#0d0887"
             ],
             [
              0.1111111111111111,
              "#46039f"
             ],
             [
              0.2222222222222222,
              "#7201a8"
             ],
             [
              0.3333333333333333,
              "#9c179e"
             ],
             [
              0.4444444444444444,
              "#bd3786"
             ],
             [
              0.5555555555555556,
              "#d8576b"
             ],
             [
              0.6666666666666666,
              "#ed7953"
             ],
             [
              0.7777777777777778,
              "#fb9f3a"
             ],
             [
              0.8888888888888888,
              "#fdca26"
             ],
             [
              1,
              "#f0f921"
             ]
            ],
            "type": "heatmap"
           }
          ],
          "heatmapgl": [
           {
            "colorbar": {
             "outlinewidth": 0,
             "ticks": ""
            },
            "colorscale": [
             [
              0,
              "#0d0887"
             ],
             [
              0.1111111111111111,
              "#46039f"
             ],
             [
              0.2222222222222222,
              "#7201a8"
             ],
             [
              0.3333333333333333,
              "#9c179e"
             ],
             [
              0.4444444444444444,
              "#bd3786"
             ],
             [
              0.5555555555555556,
              "#d8576b"
             ],
             [
              0.6666666666666666,
              "#ed7953"
             ],
             [
              0.7777777777777778,
              "#fb9f3a"
             ],
             [
              0.8888888888888888,
              "#fdca26"
             ],
             [
              1,
              "#f0f921"
             ]
            ],
            "type": "heatmapgl"
           }
          ],
          "histogram": [
           {
            "marker": {
             "pattern": {
              "fillmode": "overlay",
              "size": 10,
              "solidity": 0.2
             }
            },
            "type": "histogram"
           }
          ],
          "histogram2d": [
           {
            "colorbar": {
             "outlinewidth": 0,
             "ticks": ""
            },
            "colorscale": [
             [
              0,
              "#0d0887"
             ],
             [
              0.1111111111111111,
              "#46039f"
             ],
             [
              0.2222222222222222,
              "#7201a8"
             ],
             [
              0.3333333333333333,
              "#9c179e"
             ],
             [
              0.4444444444444444,
              "#bd3786"
             ],
             [
              0.5555555555555556,
              "#d8576b"
             ],
             [
              0.6666666666666666,
              "#ed7953"
             ],
             [
              0.7777777777777778,
              "#fb9f3a"
             ],
             [
              0.8888888888888888,
              "#fdca26"
             ],
             [
              1,
              "#f0f921"
             ]
            ],
            "type": "histogram2d"
           }
          ],
          "histogram2dcontour": [
           {
            "colorbar": {
             "outlinewidth": 0,
             "ticks": ""
            },
            "colorscale": [
             [
              0,
              "#0d0887"
             ],
             [
              0.1111111111111111,
              "#46039f"
             ],
             [
              0.2222222222222222,
              "#7201a8"
             ],
             [
              0.3333333333333333,
              "#9c179e"
             ],
             [
              0.4444444444444444,
              "#bd3786"
             ],
             [
              0.5555555555555556,
              "#d8576b"
             ],
             [
              0.6666666666666666,
              "#ed7953"
             ],
             [
              0.7777777777777778,
              "#fb9f3a"
             ],
             [
              0.8888888888888888,
              "#fdca26"
             ],
             [
              1,
              "#f0f921"
             ]
            ],
            "type": "histogram2dcontour"
           }
          ],
          "mesh3d": [
           {
            "colorbar": {
             "outlinewidth": 0,
             "ticks": ""
            },
            "type": "mesh3d"
           }
          ],
          "parcoords": [
           {
            "line": {
             "colorbar": {
              "outlinewidth": 0,
              "ticks": ""
             }
            },
            "type": "parcoords"
           }
          ],
          "pie": [
           {
            "automargin": true,
            "type": "pie"
           }
          ],
          "scatter": [
           {
            "fillpattern": {
             "fillmode": "overlay",
             "size": 10,
             "solidity": 0.2
            },
            "type": "scatter"
           }
          ],
          "scatter3d": [
           {
            "line": {
             "colorbar": {
              "outlinewidth": 0,
              "ticks": ""
             }
            },
            "marker": {
             "colorbar": {
              "outlinewidth": 0,
              "ticks": ""
             }
            },
            "type": "scatter3d"
           }
          ],
          "scattercarpet": [
           {
            "marker": {
             "colorbar": {
              "outlinewidth": 0,
              "ticks": ""
             }
            },
            "type": "scattercarpet"
           }
          ],
          "scattergeo": [
           {
            "marker": {
             "colorbar": {
              "outlinewidth": 0,
              "ticks": ""
             }
            },
            "type": "scattergeo"
           }
          ],
          "scattergl": [
           {
            "marker": {
             "colorbar": {
              "outlinewidth": 0,
              "ticks": ""
             }
            },
            "type": "scattergl"
           }
          ],
          "scattermapbox": [
           {
            "marker": {
             "colorbar": {
              "outlinewidth": 0,
              "ticks": ""
             }
            },
            "type": "scattermapbox"
           }
          ],
          "scatterpolar": [
           {
            "marker": {
             "colorbar": {
              "outlinewidth": 0,
              "ticks": ""
             }
            },
            "type": "scatterpolar"
           }
          ],
          "scatterpolargl": [
           {
            "marker": {
             "colorbar": {
              "outlinewidth": 0,
              "ticks": ""
             }
            },
            "type": "scatterpolargl"
           }
          ],
          "scatterternary": [
           {
            "marker": {
             "colorbar": {
              "outlinewidth": 0,
              "ticks": ""
             }
            },
            "type": "scatterternary"
           }
          ],
          "surface": [
           {
            "colorbar": {
             "outlinewidth": 0,
             "ticks": ""
            },
            "colorscale": [
             [
              0,
              "#0d0887"
             ],
             [
              0.1111111111111111,
              "#46039f"
             ],
             [
              0.2222222222222222,
              "#7201a8"
             ],
             [
              0.3333333333333333,
              "#9c179e"
             ],
             [
              0.4444444444444444,
              "#bd3786"
             ],
             [
              0.5555555555555556,
              "#d8576b"
             ],
             [
              0.6666666666666666,
              "#ed7953"
             ],
             [
              0.7777777777777778,
              "#fb9f3a"
             ],
             [
              0.8888888888888888,
              "#fdca26"
             ],
             [
              1,
              "#f0f921"
             ]
            ],
            "type": "surface"
           }
          ],
          "table": [
           {
            "cells": {
             "fill": {
              "color": "#EBF0F8"
             },
             "line": {
              "color": "white"
             }
            },
            "header": {
             "fill": {
              "color": "#C8D4E3"
             },
             "line": {
              "color": "white"
             }
            },
            "type": "table"
           }
          ]
         },
         "layout": {
          "annotationdefaults": {
           "arrowcolor": "#2a3f5f",
           "arrowhead": 0,
           "arrowwidth": 1
          },
          "autotypenumbers": "strict",
          "coloraxis": {
           "colorbar": {
            "outlinewidth": 0,
            "ticks": ""
           }
          },
          "colorscale": {
           "diverging": [
            [
             0,
             "#8e0152"
            ],
            [
             0.1,
             "#c51b7d"
            ],
            [
             0.2,
             "#de77ae"
            ],
            [
             0.3,
             "#f1b6da"
            ],
            [
             0.4,
             "#fde0ef"
            ],
            [
             0.5,
             "#f7f7f7"
            ],
            [
             0.6,
             "#e6f5d0"
            ],
            [
             0.7,
             "#b8e186"
            ],
            [
             0.8,
             "#7fbc41"
            ],
            [
             0.9,
             "#4d9221"
            ],
            [
             1,
             "#276419"
            ]
           ],
           "sequential": [
            [
             0,
             "#0d0887"
            ],
            [
             0.1111111111111111,
             "#46039f"
            ],
            [
             0.2222222222222222,
             "#7201a8"
            ],
            [
             0.3333333333333333,
             "#9c179e"
            ],
            [
             0.4444444444444444,
             "#bd3786"
            ],
            [
             0.5555555555555556,
             "#d8576b"
            ],
            [
             0.6666666666666666,
             "#ed7953"
            ],
            [
             0.7777777777777778,
             "#fb9f3a"
            ],
            [
             0.8888888888888888,
             "#fdca26"
            ],
            [
             1,
             "#f0f921"
            ]
           ],
           "sequentialminus": [
            [
             0,
             "#0d0887"
            ],
            [
             0.1111111111111111,
             "#46039f"
            ],
            [
             0.2222222222222222,
             "#7201a8"
            ],
            [
             0.3333333333333333,
             "#9c179e"
            ],
            [
             0.4444444444444444,
             "#bd3786"
            ],
            [
             0.5555555555555556,
             "#d8576b"
            ],
            [
             0.6666666666666666,
             "#ed7953"
            ],
            [
             0.7777777777777778,
             "#fb9f3a"
            ],
            [
             0.8888888888888888,
             "#fdca26"
            ],
            [
             1,
             "#f0f921"
            ]
           ]
          },
          "colorway": [
           "#636efa",
           "#EF553B",
           "#00cc96",
           "#ab63fa",
           "#FFA15A",
           "#19d3f3",
           "#FF6692",
           "#B6E880",
           "#FF97FF",
           "#FECB52"
          ],
          "font": {
           "color": "#2a3f5f"
          },
          "geo": {
           "bgcolor": "white",
           "lakecolor": "white",
           "landcolor": "#E5ECF6",
           "showlakes": true,
           "showland": true,
           "subunitcolor": "white"
          },
          "hoverlabel": {
           "align": "left"
          },
          "hovermode": "closest",
          "mapbox": {
           "style": "light"
          },
          "paper_bgcolor": "white",
          "plot_bgcolor": "#E5ECF6",
          "polar": {
           "angularaxis": {
            "gridcolor": "white",
            "linecolor": "white",
            "ticks": ""
           },
           "bgcolor": "#E5ECF6",
           "radialaxis": {
            "gridcolor": "white",
            "linecolor": "white",
            "ticks": ""
           }
          },
          "scene": {
           "xaxis": {
            "backgroundcolor": "#E5ECF6",
            "gridcolor": "white",
            "gridwidth": 2,
            "linecolor": "white",
            "showbackground": true,
            "ticks": "",
            "zerolinecolor": "white"
           },
           "yaxis": {
            "backgroundcolor": "#E5ECF6",
            "gridcolor": "white",
            "gridwidth": 2,
            "linecolor": "white",
            "showbackground": true,
            "ticks": "",
            "zerolinecolor": "white"
           },
           "zaxis": {
            "backgroundcolor": "#E5ECF6",
            "gridcolor": "white",
            "gridwidth": 2,
            "linecolor": "white",
            "showbackground": true,
            "ticks": "",
            "zerolinecolor": "white"
           }
          },
          "shapedefaults": {
           "line": {
            "color": "#2a3f5f"
           }
          },
          "ternary": {
           "aaxis": {
            "gridcolor": "white",
            "linecolor": "white",
            "ticks": ""
           },
           "baxis": {
            "gridcolor": "white",
            "linecolor": "white",
            "ticks": ""
           },
           "bgcolor": "#E5ECF6",
           "caxis": {
            "gridcolor": "white",
            "linecolor": "white",
            "ticks": ""
           }
          },
          "title": {
           "x": 0.05
          },
          "xaxis": {
           "automargin": true,
           "gridcolor": "white",
           "linecolor": "white",
           "ticks": "",
           "title": {
            "standoff": 15
           },
           "zerolinecolor": "white",
           "zerolinewidth": 2
          },
          "yaxis": {
           "automargin": true,
           "gridcolor": "white",
           "linecolor": "white",
           "ticks": "",
           "title": {
            "standoff": 15
           },
           "zerolinecolor": "white",
           "zerolinewidth": 2
          }
         }
        },
        "title": {
         "text": "Sentiment Counts by Model"
        },
        "xaxis": {
         "anchor": "y",
         "domain": [
          0,
          1
         ],
         "title": {
          "text": "Model"
         }
        },
        "yaxis": {
         "anchor": "x",
         "domain": [
          0,
          1
         ],
         "title": {
          "text": "Sentiment Count"
         }
        }
       }
      }
     },
     "metadata": {},
     "output_type": "display_data"
    }
   ],
   "source": [
    "sentiment_counts = d.groupby(['Model', 'Sentiment']).size().reset_index(name='Count')\n",
    "\n",
    "fig = px.bar(sentiment_counts, x='Model', y='Count', color='Sentiment', barmode='stack',\n",
    "             title=\"Sentiment Counts by Model\",\n",
    "             labels={'Count': 'Sentiment Count', 'Model': 'Model', 'Sentiment': 'Sentiment'})\n",
    "\n",
    "fig.show()"
   ]
  },
  {
   "cell_type": "code",
   "execution_count": 31,
   "id": "a426b677",
   "metadata": {},
   "outputs": [
    {
     "data": {
      "application/vnd.plotly.v1+json": {
       "config": {
        "plotlyServerURL": "https://plot.ly"
       },
       "data": [
        {
         "alignmentgroup": "True",
         "hovertemplate": "Sentiment=Irrelevant<br>Model=%{x}<br>Sentiment Percentage=%{text}<extra></extra>",
         "insidetextanchor": "middle",
         "legendgroup": "Irrelevant",
         "marker": {
          "color": "#636efa",
          "pattern": {
           "shape": ""
          }
         },
         "name": "Irrelevant",
         "offsetgroup": "Irrelevant",
         "orientation": "v",
         "showlegend": true,
         "text": [
          1.7241379310344827
         ],
         "textposition": "inside",
         "texttemplate": "%{text:.1f}%",
         "type": "bar",
         "x": [
          "TCL 50 LE"
         ],
         "xaxis": "x",
         "y": [
          1.7241379310344827
         ],
         "yaxis": "y"
        },
        {
         "alignmentgroup": "True",
         "hovertemplate": "Sentiment=Negative<br>Model=%{x}<br>Sentiment Percentage=%{text}<extra></extra>",
         "insidetextanchor": "middle",
         "legendgroup": "Negative",
         "marker": {
          "color": "#EF553B",
          "pattern": {
           "shape": ""
          }
         },
         "name": "Negative",
         "offsetgroup": "Negative",
         "orientation": "v",
         "showlegend": true,
         "text": [
          23.275862068965516,
          33.33333333333333,
          29.411764705882355,
          37.5,
          33.33333333333333,
          17.543859649122805,
          4.761904761904762
         ],
         "textposition": "inside",
         "texttemplate": "%{text:.1f}%",
         "type": "bar",
         "x": [
          "TCL 50 LE",
          "TCL 50 XE 5G",
          "TCL 50 XE NXTPAPER 5G",
          "TCL 50 XL 5G",
          "TCL 50 XL NXTPAPER 5G",
          "TCL NXTPAPER 14",
          "TCL NXTPAPER 14 Pro"
         ],
         "xaxis": "x",
         "y": [
          23.275862068965516,
          33.33333333333333,
          29.411764705882355,
          37.5,
          33.33333333333333,
          17.543859649122805,
          4.761904761904762
         ],
         "yaxis": "y"
        },
        {
         "alignmentgroup": "True",
         "hovertemplate": "Sentiment=Neutral<br>Model=%{x}<br>Sentiment Percentage=%{text}<extra></extra>",
         "insidetextanchor": "middle",
         "legendgroup": "Neutral",
         "marker": {
          "color": "#00cc96",
          "pattern": {
           "shape": ""
          }
         },
         "name": "Neutral",
         "offsetgroup": "Neutral",
         "orientation": "v",
         "showlegend": true,
         "text": [
          23.275862068965516,
          16.666666666666664,
          23.52941176470588,
          12.5,
          19.047619047619047,
          35.08771929824561,
          38.095238095238095
         ],
         "textposition": "inside",
         "texttemplate": "%{text:.1f}%",
         "type": "bar",
         "x": [
          "TCL 50 LE",
          "TCL 50 XE 5G",
          "TCL 50 XE NXTPAPER 5G",
          "TCL 50 XL 5G",
          "TCL 50 XL NXTPAPER 5G",
          "TCL NXTPAPER 14",
          "TCL NXTPAPER 14 Pro"
         ],
         "xaxis": "x",
         "y": [
          23.275862068965516,
          16.666666666666664,
          23.52941176470588,
          12.5,
          19.047619047619047,
          35.08771929824561,
          38.095238095238095
         ],
         "yaxis": "y"
        },
        {
         "alignmentgroup": "True",
         "hovertemplate": "Sentiment=Positive<br>Model=%{x}<br>Sentiment Percentage=%{text}<extra></extra>",
         "insidetextanchor": "middle",
         "legendgroup": "Positive",
         "marker": {
          "color": "#ab63fa",
          "pattern": {
           "shape": ""
          }
         },
         "name": "Positive",
         "offsetgroup": "Positive",
         "orientation": "v",
         "showlegend": true,
         "text": [
          21.551724137931032,
          41.66666666666667,
          35.294117647058826,
          37.5,
          33.33333333333333,
          42.10526315789473,
          47.61904761904761
         ],
         "textposition": "inside",
         "texttemplate": "%{text:.1f}%",
         "type": "bar",
         "x": [
          "TCL 50 LE",
          "TCL 50 XE 5G",
          "TCL 50 XE NXTPAPER 5G",
          "TCL 50 XL 5G",
          "TCL 50 XL NXTPAPER 5G",
          "TCL NXTPAPER 14",
          "TCL NXTPAPER 14 Pro"
         ],
         "xaxis": "x",
         "y": [
          21.551724137931032,
          41.66666666666667,
          35.294117647058826,
          37.5,
          33.33333333333333,
          42.10526315789473,
          47.61904761904761
         ],
         "yaxis": "y"
        },
        {
         "alignmentgroup": "True",
         "hovertemplate": "Sentiment=Very Negative<br>Model=%{x}<br>Sentiment Percentage=%{text}<extra></extra>",
         "insidetextanchor": "middle",
         "legendgroup": "Very Negative",
         "marker": {
          "color": "#FFA15A",
          "pattern": {
           "shape": ""
          }
         },
         "name": "Very Negative",
         "offsetgroup": "Very Negative",
         "orientation": "v",
         "showlegend": true,
         "text": [
          25.862068965517242,
          8.333333333333332,
          11.76470588235294,
          6.25,
          9.523809523809524,
          3.508771929824561,
          4.761904761904762
         ],
         "textposition": "inside",
         "texttemplate": "%{text:.1f}%",
         "type": "bar",
         "x": [
          "TCL 50 LE",
          "TCL 50 XE 5G",
          "TCL 50 XE NXTPAPER 5G",
          "TCL 50 XL 5G",
          "TCL 50 XL NXTPAPER 5G",
          "TCL NXTPAPER 14",
          "TCL NXTPAPER 14 Pro"
         ],
         "xaxis": "x",
         "y": [
          25.862068965517242,
          8.333333333333332,
          11.76470588235294,
          6.25,
          9.523809523809524,
          3.508771929824561,
          4.761904761904762
         ],
         "yaxis": "y"
        },
        {
         "alignmentgroup": "True",
         "hovertemplate": "Sentiment=Very Positive<br>Model=%{x}<br>Sentiment Percentage=%{text}<extra></extra>",
         "insidetextanchor": "middle",
         "legendgroup": "Very Positive",
         "marker": {
          "color": "#19d3f3",
          "pattern": {
           "shape": ""
          }
         },
         "name": "Very Positive",
         "offsetgroup": "Very Positive",
         "orientation": "v",
         "showlegend": true,
         "text": [
          4.310344827586207,
          6.25,
          4.761904761904762,
          1.7543859649122806,
          4.761904761904762
         ],
         "textposition": "inside",
         "texttemplate": "%{text:.1f}%",
         "type": "bar",
         "x": [
          "TCL 50 LE",
          "TCL 50 XL 5G",
          "TCL 50 XL NXTPAPER 5G",
          "TCL NXTPAPER 14",
          "TCL NXTPAPER 14 Pro"
         ],
         "xaxis": "x",
         "y": [
          4.310344827586207,
          6.25,
          4.761904761904762,
          1.7543859649122806,
          4.761904761904762
         ],
         "yaxis": "y"
        }
       ],
       "layout": {
        "barmode": "stack",
        "legend": {
         "title": {
          "text": "Sentiment"
         },
         "tracegroupgap": 0
        },
        "template": {
         "data": {
          "bar": [
           {
            "error_x": {
             "color": "#2a3f5f"
            },
            "error_y": {
             "color": "#2a3f5f"
            },
            "marker": {
             "line": {
              "color": "#E5ECF6",
              "width": 0.5
             },
             "pattern": {
              "fillmode": "overlay",
              "size": 10,
              "solidity": 0.2
             }
            },
            "type": "bar"
           }
          ],
          "barpolar": [
           {
            "marker": {
             "line": {
              "color": "#E5ECF6",
              "width": 0.5
             },
             "pattern": {
              "fillmode": "overlay",
              "size": 10,
              "solidity": 0.2
             }
            },
            "type": "barpolar"
           }
          ],
          "carpet": [
           {
            "aaxis": {
             "endlinecolor": "#2a3f5f",
             "gridcolor": "white",
             "linecolor": "white",
             "minorgridcolor": "white",
             "startlinecolor": "#2a3f5f"
            },
            "baxis": {
             "endlinecolor": "#2a3f5f",
             "gridcolor": "white",
             "linecolor": "white",
             "minorgridcolor": "white",
             "startlinecolor": "#2a3f5f"
            },
            "type": "carpet"
           }
          ],
          "choropleth": [
           {
            "colorbar": {
             "outlinewidth": 0,
             "ticks": ""
            },
            "type": "choropleth"
           }
          ],
          "contour": [
           {
            "colorbar": {
             "outlinewidth": 0,
             "ticks": ""
            },
            "colorscale": [
             [
              0,
              "#0d0887"
             ],
             [
              0.1111111111111111,
              "#46039f"
             ],
             [
              0.2222222222222222,
              "#7201a8"
             ],
             [
              0.3333333333333333,
              "#9c179e"
             ],
             [
              0.4444444444444444,
              "#bd3786"
             ],
             [
              0.5555555555555556,
              "#d8576b"
             ],
             [
              0.6666666666666666,
              "#ed7953"
             ],
             [
              0.7777777777777778,
              "#fb9f3a"
             ],
             [
              0.8888888888888888,
              "#fdca26"
             ],
             [
              1,
              "#f0f921"
             ]
            ],
            "type": "contour"
           }
          ],
          "contourcarpet": [
           {
            "colorbar": {
             "outlinewidth": 0,
             "ticks": ""
            },
            "type": "contourcarpet"
           }
          ],
          "heatmap": [
           {
            "colorbar": {
             "outlinewidth": 0,
             "ticks": ""
            },
            "colorscale": [
             [
              0,
              "#0d0887"
             ],
             [
              0.1111111111111111,
              "#46039f"
             ],
             [
              0.2222222222222222,
              "#7201a8"
             ],
             [
              0.3333333333333333,
              "#9c179e"
             ],
             [
              0.4444444444444444,
              "#bd3786"
             ],
             [
              0.5555555555555556,
              "#d8576b"
             ],
             [
              0.6666666666666666,
              "#ed7953"
             ],
             [
              0.7777777777777778,
              "#fb9f3a"
             ],
             [
              0.8888888888888888,
              "#fdca26"
             ],
             [
              1,
              "#f0f921"
             ]
            ],
            "type": "heatmap"
           }
          ],
          "heatmapgl": [
           {
            "colorbar": {
             "outlinewidth": 0,
             "ticks": ""
            },
            "colorscale": [
             [
              0,
              "#0d0887"
             ],
             [
              0.1111111111111111,
              "#46039f"
             ],
             [
              0.2222222222222222,
              "#7201a8"
             ],
             [
              0.3333333333333333,
              "#9c179e"
             ],
             [
              0.4444444444444444,
              "#bd3786"
             ],
             [
              0.5555555555555556,
              "#d8576b"
             ],
             [
              0.6666666666666666,
              "#ed7953"
             ],
             [
              0.7777777777777778,
              "#fb9f3a"
             ],
             [
              0.8888888888888888,
              "#fdca26"
             ],
             [
              1,
              "#f0f921"
             ]
            ],
            "type": "heatmapgl"
           }
          ],
          "histogram": [
           {
            "marker": {
             "pattern": {
              "fillmode": "overlay",
              "size": 10,
              "solidity": 0.2
             }
            },
            "type": "histogram"
           }
          ],
          "histogram2d": [
           {
            "colorbar": {
             "outlinewidth": 0,
             "ticks": ""
            },
            "colorscale": [
             [
              0,
              "#0d0887"
             ],
             [
              0.1111111111111111,
              "#46039f"
             ],
             [
              0.2222222222222222,
              "#7201a8"
             ],
             [
              0.3333333333333333,
              "#9c179e"
             ],
             [
              0.4444444444444444,
              "#bd3786"
             ],
             [
              0.5555555555555556,
              "#d8576b"
             ],
             [
              0.6666666666666666,
              "#ed7953"
             ],
             [
              0.7777777777777778,
              "#fb9f3a"
             ],
             [
              0.8888888888888888,
              "#fdca26"
             ],
             [
              1,
              "#f0f921"
             ]
            ],
            "type": "histogram2d"
           }
          ],
          "histogram2dcontour": [
           {
            "colorbar": {
             "outlinewidth": 0,
             "ticks": ""
            },
            "colorscale": [
             [
              0,
              "#0d0887"
             ],
             [
              0.1111111111111111,
              "#46039f"
             ],
             [
              0.2222222222222222,
              "#7201a8"
             ],
             [
              0.3333333333333333,
              "#9c179e"
             ],
             [
              0.4444444444444444,
              "#bd3786"
             ],
             [
              0.5555555555555556,
              "#d8576b"
             ],
             [
              0.6666666666666666,
              "#ed7953"
             ],
             [
              0.7777777777777778,
              "#fb9f3a"
             ],
             [
              0.8888888888888888,
              "#fdca26"
             ],
             [
              1,
              "#f0f921"
             ]
            ],
            "type": "histogram2dcontour"
           }
          ],
          "mesh3d": [
           {
            "colorbar": {
             "outlinewidth": 0,
             "ticks": ""
            },
            "type": "mesh3d"
           }
          ],
          "parcoords": [
           {
            "line": {
             "colorbar": {
              "outlinewidth": 0,
              "ticks": ""
             }
            },
            "type": "parcoords"
           }
          ],
          "pie": [
           {
            "automargin": true,
            "type": "pie"
           }
          ],
          "scatter": [
           {
            "fillpattern": {
             "fillmode": "overlay",
             "size": 10,
             "solidity": 0.2
            },
            "type": "scatter"
           }
          ],
          "scatter3d": [
           {
            "line": {
             "colorbar": {
              "outlinewidth": 0,
              "ticks": ""
             }
            },
            "marker": {
             "colorbar": {
              "outlinewidth": 0,
              "ticks": ""
             }
            },
            "type": "scatter3d"
           }
          ],
          "scattercarpet": [
           {
            "marker": {
             "colorbar": {
              "outlinewidth": 0,
              "ticks": ""
             }
            },
            "type": "scattercarpet"
           }
          ],
          "scattergeo": [
           {
            "marker": {
             "colorbar": {
              "outlinewidth": 0,
              "ticks": ""
             }
            },
            "type": "scattergeo"
           }
          ],
          "scattergl": [
           {
            "marker": {
             "colorbar": {
              "outlinewidth": 0,
              "ticks": ""
             }
            },
            "type": "scattergl"
           }
          ],
          "scattermapbox": [
           {
            "marker": {
             "colorbar": {
              "outlinewidth": 0,
              "ticks": ""
             }
            },
            "type": "scattermapbox"
           }
          ],
          "scatterpolar": [
           {
            "marker": {
             "colorbar": {
              "outlinewidth": 0,
              "ticks": ""
             }
            },
            "type": "scatterpolar"
           }
          ],
          "scatterpolargl": [
           {
            "marker": {
             "colorbar": {
              "outlinewidth": 0,
              "ticks": ""
             }
            },
            "type": "scatterpolargl"
           }
          ],
          "scatterternary": [
           {
            "marker": {
             "colorbar": {
              "outlinewidth": 0,
              "ticks": ""
             }
            },
            "type": "scatterternary"
           }
          ],
          "surface": [
           {
            "colorbar": {
             "outlinewidth": 0,
             "ticks": ""
            },
            "colorscale": [
             [
              0,
              "#0d0887"
             ],
             [
              0.1111111111111111,
              "#46039f"
             ],
             [
              0.2222222222222222,
              "#7201a8"
             ],
             [
              0.3333333333333333,
              "#9c179e"
             ],
             [
              0.4444444444444444,
              "#bd3786"
             ],
             [
              0.5555555555555556,
              "#d8576b"
             ],
             [
              0.6666666666666666,
              "#ed7953"
             ],
             [
              0.7777777777777778,
              "#fb9f3a"
             ],
             [
              0.8888888888888888,
              "#fdca26"
             ],
             [
              1,
              "#f0f921"
             ]
            ],
            "type": "surface"
           }
          ],
          "table": [
           {
            "cells": {
             "fill": {
              "color": "#EBF0F8"
             },
             "line": {
              "color": "white"
             }
            },
            "header": {
             "fill": {
              "color": "#C8D4E3"
             },
             "line": {
              "color": "white"
             }
            },
            "type": "table"
           }
          ]
         },
         "layout": {
          "annotationdefaults": {
           "arrowcolor": "#2a3f5f",
           "arrowhead": 0,
           "arrowwidth": 1
          },
          "autotypenumbers": "strict",
          "coloraxis": {
           "colorbar": {
            "outlinewidth": 0,
            "ticks": ""
           }
          },
          "colorscale": {
           "diverging": [
            [
             0,
             "#8e0152"
            ],
            [
             0.1,
             "#c51b7d"
            ],
            [
             0.2,
             "#de77ae"
            ],
            [
             0.3,
             "#f1b6da"
            ],
            [
             0.4,
             "#fde0ef"
            ],
            [
             0.5,
             "#f7f7f7"
            ],
            [
             0.6,
             "#e6f5d0"
            ],
            [
             0.7,
             "#b8e186"
            ],
            [
             0.8,
             "#7fbc41"
            ],
            [
             0.9,
             "#4d9221"
            ],
            [
             1,
             "#276419"
            ]
           ],
           "sequential": [
            [
             0,
             "#0d0887"
            ],
            [
             0.1111111111111111,
             "#46039f"
            ],
            [
             0.2222222222222222,
             "#7201a8"
            ],
            [
             0.3333333333333333,
             "#9c179e"
            ],
            [
             0.4444444444444444,
             "#bd3786"
            ],
            [
             0.5555555555555556,
             "#d8576b"
            ],
            [
             0.6666666666666666,
             "#ed7953"
            ],
            [
             0.7777777777777778,
             "#fb9f3a"
            ],
            [
             0.8888888888888888,
             "#fdca26"
            ],
            [
             1,
             "#f0f921"
            ]
           ],
           "sequentialminus": [
            [
             0,
             "#0d0887"
            ],
            [
             0.1111111111111111,
             "#46039f"
            ],
            [
             0.2222222222222222,
             "#7201a8"
            ],
            [
             0.3333333333333333,
             "#9c179e"
            ],
            [
             0.4444444444444444,
             "#bd3786"
            ],
            [
             0.5555555555555556,
             "#d8576b"
            ],
            [
             0.6666666666666666,
             "#ed7953"
            ],
            [
             0.7777777777777778,
             "#fb9f3a"
            ],
            [
             0.8888888888888888,
             "#fdca26"
            ],
            [
             1,
             "#f0f921"
            ]
           ]
          },
          "colorway": [
           "#636efa",
           "#EF553B",
           "#00cc96",
           "#ab63fa",
           "#FFA15A",
           "#19d3f3",
           "#FF6692",
           "#B6E880",
           "#FF97FF",
           "#FECB52"
          ],
          "font": {
           "color": "#2a3f5f"
          },
          "geo": {
           "bgcolor": "white",
           "lakecolor": "white",
           "landcolor": "#E5ECF6",
           "showlakes": true,
           "showland": true,
           "subunitcolor": "white"
          },
          "hoverlabel": {
           "align": "left"
          },
          "hovermode": "closest",
          "mapbox": {
           "style": "light"
          },
          "paper_bgcolor": "white",
          "plot_bgcolor": "#E5ECF6",
          "polar": {
           "angularaxis": {
            "gridcolor": "white",
            "linecolor": "white",
            "ticks": ""
           },
           "bgcolor": "#E5ECF6",
           "radialaxis": {
            "gridcolor": "white",
            "linecolor": "white",
            "ticks": ""
           }
          },
          "scene": {
           "xaxis": {
            "backgroundcolor": "#E5ECF6",
            "gridcolor": "white",
            "gridwidth": 2,
            "linecolor": "white",
            "showbackground": true,
            "ticks": "",
            "zerolinecolor": "white"
           },
           "yaxis": {
            "backgroundcolor": "#E5ECF6",
            "gridcolor": "white",
            "gridwidth": 2,
            "linecolor": "white",
            "showbackground": true,
            "ticks": "",
            "zerolinecolor": "white"
           },
           "zaxis": {
            "backgroundcolor": "#E5ECF6",
            "gridcolor": "white",
            "gridwidth": 2,
            "linecolor": "white",
            "showbackground": true,
            "ticks": "",
            "zerolinecolor": "white"
           }
          },
          "shapedefaults": {
           "line": {
            "color": "#2a3f5f"
           }
          },
          "ternary": {
           "aaxis": {
            "gridcolor": "white",
            "linecolor": "white",
            "ticks": ""
           },
           "baxis": {
            "gridcolor": "white",
            "linecolor": "white",
            "ticks": ""
           },
           "bgcolor": "#E5ECF6",
           "caxis": {
            "gridcolor": "white",
            "linecolor": "white",
            "ticks": ""
           }
          },
          "title": {
           "x": 0.05
          },
          "xaxis": {
           "automargin": true,
           "gridcolor": "white",
           "linecolor": "white",
           "ticks": "",
           "title": {
            "standoff": 15
           },
           "zerolinecolor": "white",
           "zerolinewidth": 2
          },
          "yaxis": {
           "automargin": true,
           "gridcolor": "white",
           "linecolor": "white",
           "ticks": "",
           "title": {
            "standoff": 15
           },
           "zerolinecolor": "white",
           "zerolinewidth": 2
          }
         }
        },
        "title": {
         "text": "Sentiment Percentages by Model"
        },
        "xaxis": {
         "anchor": "y",
         "domain": [
          0,
          1
         ],
         "title": {
          "text": "Model"
         }
        },
        "yaxis": {
         "anchor": "x",
         "domain": [
          0,
          1
         ],
         "title": {
          "text": "Sentiment Percentage"
         }
        }
       }
      }
     },
     "metadata": {},
     "output_type": "display_data"
    }
   ],
   "source": [
    "sentiment_counts = d.groupby(['Model', 'Sentiment']).size().reset_index(name='Count')\n",
    "\n",
    "sentiment_counts['Percentage'] = sentiment_counts.groupby('Model')['Count'].transform(lambda x: x / x.sum() * 100)\n",
    "\n",
    "fig = px.bar(sentiment_counts, x='Model', y='Percentage', color='Sentiment', barmode='stack',\n",
    "             title=\"Sentiment Percentages by Model\",\n",
    "             labels={'Percentage': 'Sentiment Percentage', 'Model': 'Model', 'Sentiment': 'Sentiment'},\n",
    "             text='Percentage') \n",
    "\n",
    "\n",
    "fig.update_traces(texttemplate='%{text:.1f}%', textposition='inside', insidetextanchor='middle')\n",
    "\n",
    "fig.show()"
   ]
  },
  {
   "cell_type": "code",
   "execution_count": 32,
   "id": "963c022f",
   "metadata": {},
   "outputs": [
    {
     "data": {
      "application/vnd.plotly.v1+json": {
       "config": {
        "plotlyServerURL": "https://plot.ly"
       },
       "data": [
        {
         "branchvalues": "total",
         "domain": {
          "x": [
           0,
           1
          ],
          "y": [
           0,
           1
          ]
         },
         "hovertemplate": "labels=%{label}<br>Count=%{value}<br>parent=%{parent}<br>id=%{id}<extra></extra>",
         "ids": [
          "TCL 50 LE/Irrelevant",
          "TCL 50 LE/Negative",
          "TCL 50 XE 5G/Negative",
          "TCL 50 XE NXTPAPER 5G/Negative",
          "TCL 50 XL 5G/Negative",
          "TCL 50 XL NXTPAPER 5G/Negative",
          "TCL NXTPAPER 14/Negative",
          "TCL NXTPAPER 14 Pro/Negative",
          "TCL 50 LE/Neutral",
          "TCL 50 XE 5G/Neutral",
          "TCL 50 XE NXTPAPER 5G/Neutral",
          "TCL 50 XL 5G/Neutral",
          "TCL 50 XL NXTPAPER 5G/Neutral",
          "TCL NXTPAPER 14/Neutral",
          "TCL NXTPAPER 14 Pro/Neutral",
          "TCL 50 LE/Positive",
          "TCL 50 XE 5G/Positive",
          "TCL 50 XE NXTPAPER 5G/Positive",
          "TCL 50 XL 5G/Positive",
          "TCL 50 XL NXTPAPER 5G/Positive",
          "TCL NXTPAPER 14/Positive",
          "TCL NXTPAPER 14 Pro/Positive",
          "TCL 50 LE/Very Negative",
          "TCL 50 XE 5G/Very Negative",
          "TCL 50 XE NXTPAPER 5G/Very Negative",
          "TCL 50 XL 5G/Very Negative",
          "TCL 50 XL NXTPAPER 5G/Very Negative",
          "TCL NXTPAPER 14/Very Negative",
          "TCL NXTPAPER 14 Pro/Very Negative",
          "TCL 50 LE/Very Positive",
          "TCL 50 XL 5G/Very Positive",
          "TCL 50 XL NXTPAPER 5G/Very Positive",
          "TCL NXTPAPER 14/Very Positive",
          "TCL NXTPAPER 14 Pro/Very Positive",
          "TCL 50 LE",
          "TCL 50 XE 5G",
          "TCL 50 XE NXTPAPER 5G",
          "TCL 50 XL 5G",
          "TCL 50 XL NXTPAPER 5G",
          "TCL NXTPAPER 14",
          "TCL NXTPAPER 14 Pro"
         ],
         "labels": [
          "Irrelevant",
          "Negative",
          "Negative",
          "Negative",
          "Negative",
          "Negative",
          "Negative",
          "Negative",
          "Neutral",
          "Neutral",
          "Neutral",
          "Neutral",
          "Neutral",
          "Neutral",
          "Neutral",
          "Positive",
          "Positive",
          "Positive",
          "Positive",
          "Positive",
          "Positive",
          "Positive",
          "Very Negative",
          "Very Negative",
          "Very Negative",
          "Very Negative",
          "Very Negative",
          "Very Negative",
          "Very Negative",
          "Very Positive",
          "Very Positive",
          "Very Positive",
          "Very Positive",
          "Very Positive",
          "TCL 50 LE",
          "TCL 50 XE 5G",
          "TCL 50 XE NXTPAPER 5G",
          "TCL 50 XL 5G",
          "TCL 50 XL NXTPAPER 5G",
          "TCL NXTPAPER 14",
          "TCL NXTPAPER 14 Pro"
         ],
         "name": "",
         "parents": [
          "TCL 50 LE",
          "TCL 50 LE",
          "TCL 50 XE 5G",
          "TCL 50 XE NXTPAPER 5G",
          "TCL 50 XL 5G",
          "TCL 50 XL NXTPAPER 5G",
          "TCL NXTPAPER 14",
          "TCL NXTPAPER 14 Pro",
          "TCL 50 LE",
          "TCL 50 XE 5G",
          "TCL 50 XE NXTPAPER 5G",
          "TCL 50 XL 5G",
          "TCL 50 XL NXTPAPER 5G",
          "TCL NXTPAPER 14",
          "TCL NXTPAPER 14 Pro",
          "TCL 50 LE",
          "TCL 50 XE 5G",
          "TCL 50 XE NXTPAPER 5G",
          "TCL 50 XL 5G",
          "TCL 50 XL NXTPAPER 5G",
          "TCL NXTPAPER 14",
          "TCL NXTPAPER 14 Pro",
          "TCL 50 LE",
          "TCL 50 XE 5G",
          "TCL 50 XE NXTPAPER 5G",
          "TCL 50 XL 5G",
          "TCL 50 XL NXTPAPER 5G",
          "TCL NXTPAPER 14",
          "TCL NXTPAPER 14 Pro",
          "TCL 50 LE",
          "TCL 50 XL 5G",
          "TCL 50 XL NXTPAPER 5G",
          "TCL NXTPAPER 14",
          "TCL NXTPAPER 14 Pro",
          "",
          "",
          "",
          "",
          "",
          "",
          ""
         ],
         "type": "treemap",
         "values": [
          2,
          27,
          4,
          5,
          6,
          7,
          10,
          1,
          27,
          2,
          4,
          2,
          4,
          20,
          8,
          25,
          5,
          6,
          6,
          7,
          24,
          10,
          30,
          1,
          2,
          1,
          2,
          2,
          1,
          5,
          1,
          1,
          1,
          1,
          116,
          12,
          17,
          16,
          21,
          57,
          21
         ]
        }
       ],
       "layout": {
        "legend": {
         "tracegroupgap": 0
        },
        "template": {
         "data": {
          "bar": [
           {
            "error_x": {
             "color": "#2a3f5f"
            },
            "error_y": {
             "color": "#2a3f5f"
            },
            "marker": {
             "line": {
              "color": "#E5ECF6",
              "width": 0.5
             },
             "pattern": {
              "fillmode": "overlay",
              "size": 10,
              "solidity": 0.2
             }
            },
            "type": "bar"
           }
          ],
          "barpolar": [
           {
            "marker": {
             "line": {
              "color": "#E5ECF6",
              "width": 0.5
             },
             "pattern": {
              "fillmode": "overlay",
              "size": 10,
              "solidity": 0.2
             }
            },
            "type": "barpolar"
           }
          ],
          "carpet": [
           {
            "aaxis": {
             "endlinecolor": "#2a3f5f",
             "gridcolor": "white",
             "linecolor": "white",
             "minorgridcolor": "white",
             "startlinecolor": "#2a3f5f"
            },
            "baxis": {
             "endlinecolor": "#2a3f5f",
             "gridcolor": "white",
             "linecolor": "white",
             "minorgridcolor": "white",
             "startlinecolor": "#2a3f5f"
            },
            "type": "carpet"
           }
          ],
          "choropleth": [
           {
            "colorbar": {
             "outlinewidth": 0,
             "ticks": ""
            },
            "type": "choropleth"
           }
          ],
          "contour": [
           {
            "colorbar": {
             "outlinewidth": 0,
             "ticks": ""
            },
            "colorscale": [
             [
              0,
              "#0d0887"
             ],
             [
              0.1111111111111111,
              "#46039f"
             ],
             [
              0.2222222222222222,
              "#7201a8"
             ],
             [
              0.3333333333333333,
              "#9c179e"
             ],
             [
              0.4444444444444444,
              "#bd3786"
             ],
             [
              0.5555555555555556,
              "#d8576b"
             ],
             [
              0.6666666666666666,
              "#ed7953"
             ],
             [
              0.7777777777777778,
              "#fb9f3a"
             ],
             [
              0.8888888888888888,
              "#fdca26"
             ],
             [
              1,
              "#f0f921"
             ]
            ],
            "type": "contour"
           }
          ],
          "contourcarpet": [
           {
            "colorbar": {
             "outlinewidth": 0,
             "ticks": ""
            },
            "type": "contourcarpet"
           }
          ],
          "heatmap": [
           {
            "colorbar": {
             "outlinewidth": 0,
             "ticks": ""
            },
            "colorscale": [
             [
              0,
              "#0d0887"
             ],
             [
              0.1111111111111111,
              "#46039f"
             ],
             [
              0.2222222222222222,
              "#7201a8"
             ],
             [
              0.3333333333333333,
              "#9c179e"
             ],
             [
              0.4444444444444444,
              "#bd3786"
             ],
             [
              0.5555555555555556,
              "#d8576b"
             ],
             [
              0.6666666666666666,
              "#ed7953"
             ],
             [
              0.7777777777777778,
              "#fb9f3a"
             ],
             [
              0.8888888888888888,
              "#fdca26"
             ],
             [
              1,
              "#f0f921"
             ]
            ],
            "type": "heatmap"
           }
          ],
          "heatmapgl": [
           {
            "colorbar": {
             "outlinewidth": 0,
             "ticks": ""
            },
            "colorscale": [
             [
              0,
              "#0d0887"
             ],
             [
              0.1111111111111111,
              "#46039f"
             ],
             [
              0.2222222222222222,
              "#7201a8"
             ],
             [
              0.3333333333333333,
              "#9c179e"
             ],
             [
              0.4444444444444444,
              "#bd3786"
             ],
             [
              0.5555555555555556,
              "#d8576b"
             ],
             [
              0.6666666666666666,
              "#ed7953"
             ],
             [
              0.7777777777777778,
              "#fb9f3a"
             ],
             [
              0.8888888888888888,
              "#fdca26"
             ],
             [
              1,
              "#f0f921"
             ]
            ],
            "type": "heatmapgl"
           }
          ],
          "histogram": [
           {
            "marker": {
             "pattern": {
              "fillmode": "overlay",
              "size": 10,
              "solidity": 0.2
             }
            },
            "type": "histogram"
           }
          ],
          "histogram2d": [
           {
            "colorbar": {
             "outlinewidth": 0,
             "ticks": ""
            },
            "colorscale": [
             [
              0,
              "#0d0887"
             ],
             [
              0.1111111111111111,
              "#46039f"
             ],
             [
              0.2222222222222222,
              "#7201a8"
             ],
             [
              0.3333333333333333,
              "#9c179e"
             ],
             [
              0.4444444444444444,
              "#bd3786"
             ],
             [
              0.5555555555555556,
              "#d8576b"
             ],
             [
              0.6666666666666666,
              "#ed7953"
             ],
             [
              0.7777777777777778,
              "#fb9f3a"
             ],
             [
              0.8888888888888888,
              "#fdca26"
             ],
             [
              1,
              "#f0f921"
             ]
            ],
            "type": "histogram2d"
           }
          ],
          "histogram2dcontour": [
           {
            "colorbar": {
             "outlinewidth": 0,
             "ticks": ""
            },
            "colorscale": [
             [
              0,
              "#0d0887"
             ],
             [
              0.1111111111111111,
              "#46039f"
             ],
             [
              0.2222222222222222,
              "#7201a8"
             ],
             [
              0.3333333333333333,
              "#9c179e"
             ],
             [
              0.4444444444444444,
              "#bd3786"
             ],
             [
              0.5555555555555556,
              "#d8576b"
             ],
             [
              0.6666666666666666,
              "#ed7953"
             ],
             [
              0.7777777777777778,
              "#fb9f3a"
             ],
             [
              0.8888888888888888,
              "#fdca26"
             ],
             [
              1,
              "#f0f921"
             ]
            ],
            "type": "histogram2dcontour"
           }
          ],
          "mesh3d": [
           {
            "colorbar": {
             "outlinewidth": 0,
             "ticks": ""
            },
            "type": "mesh3d"
           }
          ],
          "parcoords": [
           {
            "line": {
             "colorbar": {
              "outlinewidth": 0,
              "ticks": ""
             }
            },
            "type": "parcoords"
           }
          ],
          "pie": [
           {
            "automargin": true,
            "type": "pie"
           }
          ],
          "scatter": [
           {
            "fillpattern": {
             "fillmode": "overlay",
             "size": 10,
             "solidity": 0.2
            },
            "type": "scatter"
           }
          ],
          "scatter3d": [
           {
            "line": {
             "colorbar": {
              "outlinewidth": 0,
              "ticks": ""
             }
            },
            "marker": {
             "colorbar": {
              "outlinewidth": 0,
              "ticks": ""
             }
            },
            "type": "scatter3d"
           }
          ],
          "scattercarpet": [
           {
            "marker": {
             "colorbar": {
              "outlinewidth": 0,
              "ticks": ""
             }
            },
            "type": "scattercarpet"
           }
          ],
          "scattergeo": [
           {
            "marker": {
             "colorbar": {
              "outlinewidth": 0,
              "ticks": ""
             }
            },
            "type": "scattergeo"
           }
          ],
          "scattergl": [
           {
            "marker": {
             "colorbar": {
              "outlinewidth": 0,
              "ticks": ""
             }
            },
            "type": "scattergl"
           }
          ],
          "scattermapbox": [
           {
            "marker": {
             "colorbar": {
              "outlinewidth": 0,
              "ticks": ""
             }
            },
            "type": "scattermapbox"
           }
          ],
          "scatterpolar": [
           {
            "marker": {
             "colorbar": {
              "outlinewidth": 0,
              "ticks": ""
             }
            },
            "type": "scatterpolar"
           }
          ],
          "scatterpolargl": [
           {
            "marker": {
             "colorbar": {
              "outlinewidth": 0,
              "ticks": ""
             }
            },
            "type": "scatterpolargl"
           }
          ],
          "scatterternary": [
           {
            "marker": {
             "colorbar": {
              "outlinewidth": 0,
              "ticks": ""
             }
            },
            "type": "scatterternary"
           }
          ],
          "surface": [
           {
            "colorbar": {
             "outlinewidth": 0,
             "ticks": ""
            },
            "colorscale": [
             [
              0,
              "#0d0887"
             ],
             [
              0.1111111111111111,
              "#46039f"
             ],
             [
              0.2222222222222222,
              "#7201a8"
             ],
             [
              0.3333333333333333,
              "#9c179e"
             ],
             [
              0.4444444444444444,
              "#bd3786"
             ],
             [
              0.5555555555555556,
              "#d8576b"
             ],
             [
              0.6666666666666666,
              "#ed7953"
             ],
             [
              0.7777777777777778,
              "#fb9f3a"
             ],
             [
              0.8888888888888888,
              "#fdca26"
             ],
             [
              1,
              "#f0f921"
             ]
            ],
            "type": "surface"
           }
          ],
          "table": [
           {
            "cells": {
             "fill": {
              "color": "#EBF0F8"
             },
             "line": {
              "color": "white"
             }
            },
            "header": {
             "fill": {
              "color": "#C8D4E3"
             },
             "line": {
              "color": "white"
             }
            },
            "type": "table"
           }
          ]
         },
         "layout": {
          "annotationdefaults": {
           "arrowcolor": "#2a3f5f",
           "arrowhead": 0,
           "arrowwidth": 1
          },
          "autotypenumbers": "strict",
          "coloraxis": {
           "colorbar": {
            "outlinewidth": 0,
            "ticks": ""
           }
          },
          "colorscale": {
           "diverging": [
            [
             0,
             "#8e0152"
            ],
            [
             0.1,
             "#c51b7d"
            ],
            [
             0.2,
             "#de77ae"
            ],
            [
             0.3,
             "#f1b6da"
            ],
            [
             0.4,
             "#fde0ef"
            ],
            [
             0.5,
             "#f7f7f7"
            ],
            [
             0.6,
             "#e6f5d0"
            ],
            [
             0.7,
             "#b8e186"
            ],
            [
             0.8,
             "#7fbc41"
            ],
            [
             0.9,
             "#4d9221"
            ],
            [
             1,
             "#276419"
            ]
           ],
           "sequential": [
            [
             0,
             "#0d0887"
            ],
            [
             0.1111111111111111,
             "#46039f"
            ],
            [
             0.2222222222222222,
             "#7201a8"
            ],
            [
             0.3333333333333333,
             "#9c179e"
            ],
            [
             0.4444444444444444,
             "#bd3786"
            ],
            [
             0.5555555555555556,
             "#d8576b"
            ],
            [
             0.6666666666666666,
             "#ed7953"
            ],
            [
             0.7777777777777778,
             "#fb9f3a"
            ],
            [
             0.8888888888888888,
             "#fdca26"
            ],
            [
             1,
             "#f0f921"
            ]
           ],
           "sequentialminus": [
            [
             0,
             "#0d0887"
            ],
            [
             0.1111111111111111,
             "#46039f"
            ],
            [
             0.2222222222222222,
             "#7201a8"
            ],
            [
             0.3333333333333333,
             "#9c179e"
            ],
            [
             0.4444444444444444,
             "#bd3786"
            ],
            [
             0.5555555555555556,
             "#d8576b"
            ],
            [
             0.6666666666666666,
             "#ed7953"
            ],
            [
             0.7777777777777778,
             "#fb9f3a"
            ],
            [
             0.8888888888888888,
             "#fdca26"
            ],
            [
             1,
             "#f0f921"
            ]
           ]
          },
          "colorway": [
           "#636efa",
           "#EF553B",
           "#00cc96",
           "#ab63fa",
           "#FFA15A",
           "#19d3f3",
           "#FF6692",
           "#B6E880",
           "#FF97FF",
           "#FECB52"
          ],
          "font": {
           "color": "#2a3f5f"
          },
          "geo": {
           "bgcolor": "white",
           "lakecolor": "white",
           "landcolor": "#E5ECF6",
           "showlakes": true,
           "showland": true,
           "subunitcolor": "white"
          },
          "hoverlabel": {
           "align": "left"
          },
          "hovermode": "closest",
          "mapbox": {
           "style": "light"
          },
          "paper_bgcolor": "white",
          "plot_bgcolor": "#E5ECF6",
          "polar": {
           "angularaxis": {
            "gridcolor": "white",
            "linecolor": "white",
            "ticks": ""
           },
           "bgcolor": "#E5ECF6",
           "radialaxis": {
            "gridcolor": "white",
            "linecolor": "white",
            "ticks": ""
           }
          },
          "scene": {
           "xaxis": {
            "backgroundcolor": "#E5ECF6",
            "gridcolor": "white",
            "gridwidth": 2,
            "linecolor": "white",
            "showbackground": true,
            "ticks": "",
            "zerolinecolor": "white"
           },
           "yaxis": {
            "backgroundcolor": "#E5ECF6",
            "gridcolor": "white",
            "gridwidth": 2,
            "linecolor": "white",
            "showbackground": true,
            "ticks": "",
            "zerolinecolor": "white"
           },
           "zaxis": {
            "backgroundcolor": "#E5ECF6",
            "gridcolor": "white",
            "gridwidth": 2,
            "linecolor": "white",
            "showbackground": true,
            "ticks": "",
            "zerolinecolor": "white"
           }
          },
          "shapedefaults": {
           "line": {
            "color": "#2a3f5f"
           }
          },
          "ternary": {
           "aaxis": {
            "gridcolor": "white",
            "linecolor": "white",
            "ticks": ""
           },
           "baxis": {
            "gridcolor": "white",
            "linecolor": "white",
            "ticks": ""
           },
           "bgcolor": "#E5ECF6",
           "caxis": {
            "gridcolor": "white",
            "linecolor": "white",
            "ticks": ""
           }
          },
          "title": {
           "x": 0.05
          },
          "xaxis": {
           "automargin": true,
           "gridcolor": "white",
           "linecolor": "white",
           "ticks": "",
           "title": {
            "standoff": 15
           },
           "zerolinecolor": "white",
           "zerolinewidth": 2
          },
          "yaxis": {
           "automargin": true,
           "gridcolor": "white",
           "linecolor": "white",
           "ticks": "",
           "title": {
            "standoff": 15
           },
           "zerolinecolor": "white",
           "zerolinewidth": 2
          }
         }
        },
        "title": {
         "text": "Sentiment Distribution by Query (Treemap)"
        }
       }
      }
     },
     "metadata": {},
     "output_type": "display_data"
    }
   ],
   "source": [
    "fig = px.treemap(sentiment_counts, path=['Model', 'Sentiment'], values='Count', \n",
    "                 title=\"Sentiment Distribution by Query (Treemap)\")\n",
    "\n",
    "fig.show()"
   ]
  },
  {
   "cell_type": "code",
   "execution_count": null,
   "id": "4463d804",
   "metadata": {},
   "outputs": [],
   "source": []
  }
 ],
 "metadata": {
  "kernelspec": {
   "display_name": "base",
   "language": "python",
   "name": "python3"
  },
  "language_info": {
   "codemirror_mode": {
    "name": "ipython",
    "version": 3
   },
   "file_extension": ".py",
   "mimetype": "text/x-python",
   "name": "python",
   "nbconvert_exporter": "python",
   "pygments_lexer": "ipython3",
   "version": "3.12.7"
  }
 },
 "nbformat": 4,
 "nbformat_minor": 5
}
